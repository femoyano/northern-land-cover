{
 "cells": [
  {
   "cell_type": "markdown",
   "id": "b1e45d22",
   "metadata": {},
   "source": [
    "## CO2 flux analysis\n",
    "\n",
    "This script gets the raw inversion data and calculates \n",
    "\n",
    "### Methods:\n",
    "\n",
    "1. Load inversion CO2 data and preprocess:\n",
    "    - select roi\n",
    "    - adjust units\n",
    "    - set nodata\n",
    "    - ...\n",
    "3. Create a grouping coordinate that divides growing and non-growing seasons.   \n",
    "    - This can be done manually, but consider fitting a harmonic to divide seasons.  \n",
    "4. For each year and season, calculate the CO2 flux sum.\n",
    "5. For each year, get the difference between growing and non-growing season.\n",
    "    - This is the CO2 flux amplitude that can then be related to atmospheric CO2 and driving variables. \n"
   ]
  },
  {
   "cell_type": "code",
   "execution_count": null,
   "id": "4b0171b9-f501-467e-8ef2-26ad7ee2a54f",
   "metadata": {
    "tags": []
   },
   "outputs": [],
   "source": [
    "# Get all required packages\n",
    "\n",
    "#%%\n",
    "%load_ext autoreload\n",
    "%autoreload 2\n",
    "\n",
    "# Packages\n",
    "import os\n",
    "\n",
    "# Local modules\n",
    "from mod_ra1 import *"
   ]
  },
  {
   "cell_type": "markdown",
   "id": "c3f74e57",
   "metadata": {},
   "source": [
    "### Options"
   ]
  },
  {
   "cell_type": "code",
   "execution_count": 1,
   "id": "f88dcc1c",
   "metadata": {},
   "outputs": [],
   "source": [
    "do_plotting = False\n",
    "\n",
    "# Choose the list of inversion data version to analyse. Later (shorter) time series are driven by data from more stations.\n",
    "inversion = {'s85':1985, 's99':1999, 's06':2006, 's10':2010}  # Inversion starting year. Options: s85, s99, s06, s10\n",
    "\n",
    "# Choose last year for analysis period\n",
    "stop = 2021\n"
   ]
  },
  {
   "cell_type": "markdown",
   "id": "a083b0fa",
   "metadata": {},
   "source": [
    "### General Settings"
   ]
  },
  {
   "cell_type": "code",
   "execution_count": null,
   "id": "25e5815f",
   "metadata": {},
   "outputs": [],
   "source": [
    "# Directories\n",
    "input_dir = '../data_input/'\n",
    "output_dir = '../data_output/'\n",
    "\n",
    "# Default data properties\n",
    "epsg_crs = 4326\n",
    "\n",
    "# Region files available\n",
    "conts_file = os.path.join(input_dir, 'continents.geojson')\n",
    "north50_file = os.path.join(input_dir, 'north50.geojson')\n",
    "north30_file = os.path.join(input_dir, 'north30.geojson')\n",
    "north0_file = os.path.join(input_dir, 'north0.geojson')\n",
    "testrect_file = os.path.join(input_dir, 'testrect.geojson')\n",
    "\n",
    "# Set the region to use for the analysis\n",
    "roi_file = conts_file\n"
   ]
  },
  {
   "cell_type": "code",
   "execution_count": null,
   "id": "0f822cc3",
   "metadata": {},
   "outputs": [],
   "source": [
    "# Loop over inversion versions and analysis periods\n",
    "\n",
    "for inv in inversion:\n",
    "    inv_start = inversion[inv]\n",
    "    for start in inversion.values():\n",
    "            if(inv_start >= start):\n",
    "                continue\n",
    "\n",
    "            # Analysis ----\n",
    "\n",
    "            # Chose the inversion data version. Later (shorter) time series are driven by data from more stations.\n",
    "            co2inv_file = '/Users/moyanofe/BigData/GeoSpatial/Carboscope/Inversions/' + inv + 'oc_v2022_daily.nc'\n",
    "\n",
    "            # Call function for inversion CO2 preprocessing\n",
    "            co2fluxProc = procInvCO2(invco2_file=co2inv_file, roi_file=roi_file)\n",
    "\n",
    "            # Call function to get the yearly seasonal CO2 flux amplitude\n",
    "            co2fluxAmp = get_CO2fluxSeasAmp(co2fluxProc)\n",
    "\n",
    "            # Call function to calculate temporal trends, mean, variance, etc in seasonal amplitudes\n",
    "            co2fluxAmpStats = get_co2fluxampstats(co2fluxAmp)\n",
    "\n",
    "\n",
    "            # Save to file ----\n",
    "\n",
    "            # Saving the amp and amp-trend results to disk\n",
    "            ident = inv + '_' + str(start)+'-'+str(stop)\n",
    "            file_out_amp = os.path.join(output_dir, 'co2fluxAmp_'+ident+'.nc')\n",
    "            co2fluxAmp.to_netcdf(file_out_amp)\n",
    "\n",
    "            file_out_stats = os.path.join(output_dir, 'co2fluxAmpStats_'+ident+'.nc')\n",
    "            co2fluxAmpStats.to_netcdf(file_out_stats)\n",
    "\n",
    "            # Save the trend data to GeoTiff (useful if reading into Earth Engine is required)\n",
    "            # Saving the database (not as an array) keeps the band name info. (But seems like Earth Engine does not import band names)\n",
    "            # file_out = os.path.join(output_dir, 'co2fluxAmpStats_Inv' + inversion + '.tif')\n",
    "            # co2fluxAmpStats.rio.to_raster(file_out)\n",
    "\n",
    "            # Save the co2 flux seasonal difference data to GeoTiff\n",
    "            # file_out = os.path.join(output_dir, 'co2fluxAmp_Inv' + inversion + '.tif')\n",
    "            # da_fluxamp = co2fluxAmp['co2flux_yearlyamp']\n",
    "            # da_fluxamp.rio.to_raster(file_out)\n",
    "\n",
    "\n",
    "            # Plotting ----\n",
    "\n",
    "            if(do_plotting):\n",
    "            \n",
    "                # Plot the first band of co2 flux rates\n",
    "                plotOrthographic(co2fluxProc=co2fluxProc)\n",
    "\n",
    "                # Plotting of seasonal amplitude time series\n",
    "                plotRegMeans(co2fluxAmp=co2fluxAmp, lats=([30, 50], [50, 90]))\n",
    "\n",
    "                # Map plot of flux trends in the northern hemisphere\n",
    "                plotLambert(co2fluxAmpStats.slope)\n",
    "\n",
    "                # Plot values with significance filter\n",
    "                plotOrthoSig(co2fluxAmpStats.slope, co2fluxAmpStats.p_value)"
   ]
  }
 ],
 "metadata": {
  "kernelspec": {
   "display_name": "Python 3.9.13 ('landcover')",
   "language": "python",
   "name": "python3"
  },
  "language_info": {
   "codemirror_mode": {
    "name": "ipython",
    "version": 3
   },
   "file_extension": ".py",
   "mimetype": "text/x-python",
   "name": "python",
   "nbconvert_exporter": "python",
   "pygments_lexer": "ipython3",
   "version": "3.9.15"
  },
  "vscode": {
   "interpreter": {
    "hash": "e9c0ace6525dc9bd2cdb9ec438dcef471f1778d0487c57e0c503f5b8fe081a27"
   }
  }
 },
 "nbformat": 4,
 "nbformat_minor": 5
}
