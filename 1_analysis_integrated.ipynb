{
 "cells": [
  {
   "cell_type": "markdown",
   "id": "b1e45d22",
   "metadata": {},
   "source": [
    "## CO2 flux analysis\n",
    "\n",
    "This script gets the raw inversion data and calculates \n",
    "\n",
    "Later (shorter) time series are driven by data from more stations.\n",
    "\n",
    "### Methods:\n",
    "\n",
    "1. Load inversion CO2 data and preprocess:\n",
    "    - select roi\n",
    "    - adjust units\n",
    "    - set nodata\n",
    "    - ...\n",
    "3. Create a grouping coordinate that divides growing and non-growing seasons.   \n",
    "    - This can be done manually, but consider fitting a harmonic to divide seasons.  \n",
    "4. For each year and season, calculate the CO2 flux sum.\n",
    "5. For each year, get the difference between growing and non-growing season.\n",
    "    - This is the CO2 flux amplitude that can then be related to atmospheric CO2 and driving variables. \n"
   ]
  },
  {
   "cell_type": "code",
   "execution_count": null,
   "id": "4b0171b9-f501-467e-8ef2-26ad7ee2a54f",
   "metadata": {
    "tags": []
   },
   "outputs": [],
   "source": [
    "# Get all required packages\n",
    "\n",
    "#%%\n",
    "%load_ext autoreload\n",
    "%autoreload 2\n",
    "\n",
    "# Packages\n",
    "import os\n",
    "\n",
    "# Local modules\n",
    "from mod_ra1 import *"
   ]
  },
  {
   "cell_type": "markdown",
   "id": "c3f74e57",
   "metadata": {},
   "source": [
    "### Options"
   ]
  },
  {
   "cell_type": "code",
   "execution_count": null,
   "id": "f88dcc1c",
   "metadata": {},
   "outputs": [],
   "source": [
    "# Choose the list of inversion data version to analyse. Later (shorter) time series are driven by data from more stations.\n",
    "inversions = {'s76':1976, 's81':1981, 's85':1985, 's99':1999, 's06':2006, 's10':2010}  # Inversion starting year. Options: s85, s99, s06, s10\n",
    "# inversions = {'s76':1976, 's81':1981}  # Inversion starting year. Options: s85, s99, s06, s10\n",
    "\n",
    "# List of strating years to define analysis periods\n",
    "periods = [(1976,2021), (1981,2021), (1985,2021), (1999,2021), (2006,2021), (2010,2021)]\n",
    "# periods = [(2006,2021), (2010,2021)]"
   ]
  },
  {
   "cell_type": "markdown",
   "id": "a083b0fa",
   "metadata": {},
   "source": [
    "### General Settings"
   ]
  },
  {
   "cell_type": "code",
   "execution_count": null,
   "id": "25e5815f",
   "metadata": {},
   "outputs": [],
   "source": [
    "# Directories\n",
    "input_dir = '../data_input/'\n",
    "output_dir = '../data_output/'\n",
    "\n",
    "# Default data properties\n",
    "epsg_crs = 4326\n",
    "\n",
    "# Region files available\n",
    "conts_file = os.path.join(input_dir, 'continents.geojson')\n",
    "north50_file = os.path.join(input_dir, 'north50.geojson')\n",
    "north30_file = os.path.join(input_dir, 'north30.geojson')\n",
    "north0_file = os.path.join(input_dir, 'north0.geojson')\n",
    "testrect_file = os.path.join(input_dir, 'testrect.geojson')\n",
    "\n",
    "# Set the region to use for the analysis\n",
    "roi_file = conts_file"
   ]
  },
  {
   "cell_type": "code",
   "execution_count": null,
   "id": "0f822cc3",
   "metadata": {},
   "outputs": [],
   "source": [
    "# Loop over inversion versions and analysis periods\n",
    "\n",
    "for inv in inversions:\n",
    "\n",
    "    # Chose the inversion data version. Later (shorter) time series are driven by data from more stations.\n",
    "    fname = inv + 'oc_v2022_daily.nc'\n",
    "    invco2_file = '/Users/moyanofe/BigData/GeoSpatial/Carboscope/Inversions/' + fname\n",
    "\n",
    "    print('Analysing inversion file: ', fname)\n",
    "\n",
    "    # Call function for inversion CO2 preprocessing\n",
    "    co2fluxProc = procInvCO2(invco2_file=invco2_file, roi_file=roi_file)\n",
    "\n",
    "    # Call function to get the yearly seasonal CO2 flux amplitude\n",
    "    co2fluxAmp = get_CO2fluxSeasAmp(co2fluxProc)\n",
    "\n",
    "    # Save amps to file\n",
    "    file_out_amp = os.path.join(output_dir, 'co2fluxAmp_'+inv+'.nc')\n",
    "    co2fluxAmp.to_netcdf(file_out_amp)\n",
    "    \n",
    "    # Loop over periods to get temporal statistics for each:\n",
    "    \n",
    "    inv_start = inversions[inv]\n",
    "\n",
    "    for period in periods:\n",
    "\n",
    "            print('inv_start: ', inv_start)\n",
    "            print('period: ', period)\n",
    "        \n",
    "            if(inv_start > period[0]):\n",
    "                print('Period not within inversion run. Skipping ...')\n",
    "                continue\n",
    "\n",
    "            print('Executing analysis with: ', inv, ', period: ', period)\n",
    "\n",
    "            # Call function to calculate temporal trends, mean, variance, etc in seasonal amplitudes\n",
    "            co2fluxAmpStats = get_co2fluxampstats(co2fluxAmp, period=period)\n",
    "\n",
    "            # Save amp stats\n",
    "            ident = inv + '_' + str(period[0])+'-'+str(period[1])\n",
    "            file_out_stats = os.path.join(output_dir, 'co2fluxAmpStats_'+ident+'.nc')\n",
    "            co2fluxAmpStats.to_netcdf(file_out_stats)\n",
    "\n",
    "\n",
    "# -----\n",
    "# Save the trend data to GeoTiff (useful if reading into Earth Engine is required)\n",
    "# Saving the database (not as an array) keeps the band name info. (But seems like Earth Engine does not import band names)\n",
    "# file_out = os.path.join(output_dir, 'co2fluxAmpStats_Inv' + ident + '.tif')\n",
    "# co2fluxAmpStats.rio.to_raster(file_out)\n",
    "\n",
    "# Save the co2 flux seasonal difference data to GeoTiff\n",
    "# file_out = os.path.join(output_dir, 'co2fluxAmp_Inv' + ident + '.tif')\n",
    "# da_fluxamp = co2fluxAmp['co2flux_yearlyamp']\n",
    "# da_fluxamp.rio.to_raster(file_out)"
   ]
  }
 ],
 "metadata": {
  "kernelspec": {
   "display_name": "Python 3.9.13 ('landcover')",
   "language": "python",
   "name": "python3"
  },
  "language_info": {
   "codemirror_mode": {
    "name": "ipython",
    "version": 3
   },
   "file_extension": ".py",
   "mimetype": "text/x-python",
   "name": "python",
   "nbconvert_exporter": "python",
   "pygments_lexer": "ipython3",
   "version": "3.9.15"
  },
  "vscode": {
   "interpreter": {
    "hash": "e9c0ace6525dc9bd2cdb9ec438dcef471f1778d0487c57e0c503f5b8fe081a27"
   }
  }
 },
 "nbformat": 4,
 "nbformat_minor": 5
}
