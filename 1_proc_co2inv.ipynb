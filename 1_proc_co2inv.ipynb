{
 "cells": [
  {
   "cell_type": "markdown",
   "id": "b1e45d22",
   "metadata": {},
   "source": [
    "## CO2 flux analysis\n",
    "\n",
    "This script gets the raw inversion data and calculates \n",
    "\n",
    "### Methods:\n",
    "\n",
    "1. Load geometries and inversion CO2 data and preprocess as necessary.\n",
    "2. Select the ROI (region of interest), initially using a small test region.\n",
    "3. Create a grouping coordinate that divides growing and non-growing seasons.   \n",
    "    - Initially this can be done manually. Later consider fitting a harmonic to divide seasons.  \n",
    "4. For each year and season, calculate the CO2 flux sum.\n",
    "5. For each year, get the difference between growing and non-growing season.\n",
    "    - This is the CO2 flux amplitude that can then be related to atmospheric CO2 and driving variables. \n"
   ]
  },
  {
   "cell_type": "code",
   "execution_count": null,
   "id": "4b0171b9-f501-467e-8ef2-26ad7ee2a54f",
   "metadata": {
    "tags": []
   },
   "outputs": [],
   "source": [
    "# Get all required packages\n",
    "# import ee\n",
    "# from osgeo import gdal\n",
    "# from pyproj import CRS\n",
    "# import geemap as gm\n",
    "\n",
    "import rioxarray as rio\n",
    "import xarray as xr\n",
    "import pandas as pd\n",
    "import numpy as np\n",
    "import cartopy.crs as ccrs\n",
    "import matplotlib.pyplot as plt"
   ]
  },
  {
   "cell_type": "code",
   "execution_count": null,
   "id": "25e5815f",
   "metadata": {},
   "outputs": [],
   "source": [
    "# Some common setting:\n",
    "nodata = -9999.0\n",
    "epsg_crs = 4326"
   ]
  },
  {
   "cell_type": "markdown",
   "id": "04fe07a2",
   "metadata": {},
   "source": [
    "#### Load geometries data"
   ]
  },
  {
   "cell_type": "code",
   "execution_count": null,
   "id": "71960297",
   "metadata": {},
   "outputs": [],
   "source": [
    "import geopandas as gpd\n",
    "from shapely.geometry import box\n",
    "\n",
    "conts_file = '/Users/moyanofe/Work/Augsburg/Research/LandCover/data/continents.geojson'\n",
    "north50_file = '/Users/moyanofe/Work/Augsburg/Research/LandCover/data/north50.geojson'\n",
    "north30_file = '/Users/moyanofe/Work/Augsburg/Research/LandCover/data/north30.geojson'\n",
    "north0_file = '/Users/moyanofe/Work/Augsburg/Research/LandCover/data/north0.geojson'\n",
    "testrect_file = '/Users/moyanofe/Work/Augsburg/Research/LandCover/data/testrect.geojson'\n",
    "\n",
    "# Set the region to use for the analysis\n",
    "roi = gpd.read_file(conts_file)\n",
    "\n",
    "# testrect = gpd.read_file(conts_file)\n",
    "# roi = roi.clip(testrect)\n",
    "\n",
    "# Some printing and plotting to check \n",
    "# print(roi.crs)\n",
    "# roi.plot()"
   ]
  },
  {
   "cell_type": "markdown",
   "id": "60e1a9b1",
   "metadata": {},
   "source": [
    "### Load CO2 from inversion and do some processing"
   ]
  },
  {
   "cell_type": "code",
   "execution_count": null,
   "id": "ab1c16d7",
   "metadata": {},
   "outputs": [],
   "source": [
    "# Open data, rename and set some attributes\n",
    "\n",
    "# IMPORTANT: chose the inversion data version. Later (shorter) time series are driven by data from more stations.\n",
    "# file_path = '/Users/moyanofe/BigData/GeoSpatial/Carboscope/Inversions/s85oc_v2022_daily.tiff'\n",
    "# file_path = '/Users/moyanofe/BigData/GeoSpatial/Carboscope/Inversions/s85oc_v2022_daily.nc'\n",
    "# file_path = '/Users/moyanofe/BigData/GeoSpatial/Carboscope/Inversions/s99oc_v2022_daily.nc'\n",
    "# file_path = '/Users/moyanofe/BigData/GeoSpatial/Carboscope/Inversions/s06oc_v2022_daily.nc'\n",
    "file_path = '/Users/moyanofe/BigData/GeoSpatial/Carboscope/Inversions/s10oc_v2022_daily.nc'\n",
    "\n",
    "\n",
    "# All three file reading methods read in the attributes differently.\n",
    "# co2InvRaw = rio.open_rasterio(file_path)\n",
    "# co2InvRaw = xr.open_dataset(file_path, engine=\"rasterio\", variable='co2flux_land')\n",
    "co2InvRaw_List = rio.open_rasterio(file_path, variable='co2flux_land')\n",
    "co2InvRaw = co2InvRaw_List['co2flux_land']  # Extracting the dataarray from the list\n",
    "co2InvRaw = co2InvRaw.rename({'mtime': 'time'})  # Rename the time dimension and coordinate to something standard.\n",
    "co2InvRaw = co2InvRaw.rename({'x': 'longitude'})  # Rename the time dimension and coordinate to something standard.\n",
    "co2InvRaw = co2InvRaw.rename({'y': 'latitude'})  # Rename the time dimension and coordinate to something standard.\n",
    "co2InvRaw.attrs['units'] = 'PgC/yr'  # For some reason the units is a tuple of repeating values. Replacing with single value.\n",
    "co2InvRaw.rio.write_crs(4326, inplace=True)  # Set the crs (I assume this is the correct one). This creates the spatial_ref coordinate.\n",
    "\n",
    "# Setting nodata\n",
    "# co2InvRaw.data = np.where(co2InvRaw.data == co2InvRaw.rio.nodata, nodata, co2InvRaw.data) # If there are any nodata values, replace them with the new definition\n",
    "co2InvRaw = co2InvRaw.rio.write_nodata(nodata)  # Set the new nodata value\n",
    "co2InvRaw = co2InvRaw.rio.write_nodata(co2InvRaw.rio.nodata, encoded=True, inplace=True)  # nodata value is enconded (not sure what this is or if necessary)"
   ]
  },
  {
   "cell_type": "code",
   "execution_count": null,
   "id": "a74a1f3c",
   "metadata": {},
   "outputs": [],
   "source": [
    "# Changing the flux to units per area (rather than per pixel)\n",
    "\n",
    "# Read in the area per pixel data. The variable in the file contains 2 layers, of which the first seems to be land area.\n",
    "pixarea_List = rio.open_rasterio(file_path, variable='area')\n",
    "pixarea = pixarea_List['area']\n",
    "pixarea = pixarea.rename({'x': 'longitude'})  # Rename the time dimension and coordinate to something standard.\n",
    "pixarea = pixarea.rename({'y': 'latitude'})  # Rename the time dimension and coordinate to something standard.\n",
    "landarea = pixarea[0]\n",
    "landarea.attrs['units'] = 'm2'\n",
    "landarea.coords.__delitem__('rt')\n",
    "\n",
    "# Convert the co2 flux units: pixel to sqm, then to ha; and petagram to tons, so PgC y-1 -> tC ha-2 y-1\n",
    "co2Inv = co2InvRaw / landarea * 10000 * 10**9 # to ha, to tons.\n",
    "\n",
    "# Add some important attributes\n",
    "co2Inv.attrs['units'] = 'tC/ha/y'\n",
    "co2Inv.attrs['long_name'] = 'Land-Atmosphere CO2 flux'"
   ]
  },
  {
   "cell_type": "code",
   "execution_count": null,
   "id": "b5f39092",
   "metadata": {},
   "outputs": [],
   "source": [
    "# Select data from the region of interest\n",
    "# co2InvT = co2Inv.rio.clip(testarea.geometry, testarea.crs, all_touched=True)\n",
    "co2InvS = co2Inv.rio.clip(roi.geometry, roi.crs, all_touched=True)"
   ]
  },
  {
   "cell_type": "markdown",
   "id": "ac79c4d3",
   "metadata": {},
   "source": [
    "### Calculating seasonal amplitudes and temporal amplitude trends\n",
    "\n",
    "1. First create a 'groups' coordinate from the combination of years and seasons (winter vs summer).\n",
    "2. Calculate the mean for each group (year-season).\n",
    "3. Calculate the winter-summer difference (amplitudes) between means.\n",
    "4. Calculate the temporal trends in the amplitudes."
   ]
  },
  {
   "cell_type": "code",
   "execution_count": null,
   "id": "4370ab68",
   "metadata": {},
   "outputs": [],
   "source": [
    "# 1. Create a 'season' variable and then a 'groups' coordinate\n",
    "\n",
    "months = co2InvS.time.dt.month.data # Extract the month values\n",
    "# season = np.where(np.logical_or(months < 4, months > 9), 0, 1)\n",
    "season = np.where((months < 4) | (months > 9), 0, 1)  # Split year in two periods of 6 months each (two seasons): 0 = Oct-Mar, 1 = Apr-Sep\n",
    "groups = co2InvS.time.dt.year.data + (season/10)  # Create year-season groups for grouped calculations \n",
    "co2InvS['groups'] = ('time', groups)  # Set as coordinate"
   ]
  },
  {
   "cell_type": "code",
   "execution_count": null,
   "id": "73560ec0",
   "metadata": {},
   "outputs": [],
   "source": [
    "# 2. Calculate the mean for each year-season group and add again a years coordinate.\n",
    "\n",
    "# co2InvTG = co2Inv.groupby(['time.year', 'season']).mean()  # Does not work! Grouping by two variables is not supported in xarray!\n",
    "co2InvTG = co2InvS.groupby('groups').mean()  # Get the mean values of surface co2 fluxes by year-season\n",
    "\n",
    "# Add again the coordinate representing years\n",
    "years = np.round(co2InvTG.coords['groups'].data)\n",
    "co2InvTG['year'] = ('groups', years)\n",
    "\n",
    "# Check results:\n",
    "# print(co2InvTG[0:,0,0])\n",
    "# print(co2InvTG.coords['groups'])\n",
    "# print(co2InvTG.coords['year'])\n",
    "# co2InvTG.where(co2InvTG.year==1985, drop=True)"
   ]
  },
  {
   "cell_type": "code",
   "execution_count": null,
   "id": "b026c8c7",
   "metadata": {},
   "outputs": [],
   "source": [
    "# 3. Calculate the difference between winter (positive) and summer (negative) mean fluxes. For the southern hemisphere the sign is corrected afterwards.\n",
    "\n",
    "def diff(x):\n",
    "    return(x[0] - x[1])  # Oct-Mar average flux minus Apr-Sep average flux. Signs are correct for NH. SH sign is corrected below.\n",
    "co2InvTD = co2InvTG.groupby('year').map(diff)  # Apply the difference function for each year\n",
    "co2InvTD = co2InvTD.where(co2InvTD.latitude > 0, co2InvTD * (-1))  # Correct the sign in the Southern Hemisphere\n",
    "\n",
    "# Rename the xarray data array and setting the crs\n",
    "co2InvTD = co2InvTD.rename('co2flux_yearlyamp')\n",
    "co2InvTD.rio.write_crs(4326, inplace=True)"
   ]
  },
  {
   "cell_type": "code",
   "execution_count": null,
   "id": "bd8d04a8",
   "metadata": {},
   "outputs": [],
   "source": [
    "# 4. Calculate temporal trends in seasonal amplitudes\n",
    "\n",
    "from xarrayutils.utils import linear_trend\n",
    "fluxamp_trends = linear_trend(co2InvTD, 'year')\n",
    "fluxamp_trends.slope.attrs['units'] = 'tC/ha/y'\n",
    "fluxamp_trends.slope.attrs['long_name'] = 'Trend in seasonal CO2 flux amplitude'\n",
    "fluxamp_trends.rio.write_crs(4326, inplace=True)"
   ]
  },
  {
   "cell_type": "markdown",
   "id": "c71f6f70",
   "metadata": {},
   "source": [
    "### Save to file"
   ]
  },
  {
   "cell_type": "code",
   "execution_count": null,
   "id": "79e3c3fe",
   "metadata": {},
   "outputs": [],
   "source": [
    "# Saving data to file\n",
    "\n",
    "# Saving the amp and amp-trend results to disk\n",
    "file_out_trend = '../data/co2invSeasAmpTrend.nc'\n",
    "file_out_amp = '../data/co2invSeasAmp.nc'\n",
    "co2InvTD.to_netcdf(file_out_amp)\n",
    "fluxamp_trends.to_netcdf(file_out_trend)\n",
    "\n",
    "# Save the trend data to GeoTiff (useful if reading into Earth Engine is required)\n",
    "# Saving the database (not as an array) keeps the band name info. (But seems like Earth Engine does not import band names)\n",
    "file_out = '../data/co2invSeasAmpTrend.tif'\n",
    "fluxamp_trends.rio.to_raster(file_out)\n",
    "\n",
    "# Save the co2 flux seasonal difference data to GeoTiff\n",
    "file_in = '../data/co2invSeasAmp.nc'\n",
    "file_out = '../data/co2invSeasAmp.tif'\n",
    "ds_fluxamp = rio.open_rasterio(file_in)\n",
    "# print(ds_fluxamp)\n",
    "da_fluxamp = ds_fluxamp['co2flux_yearlyamp']\n",
    "da_fluxamp.attrs = ds_fluxamp.attrs\n",
    "print(da_fluxamp.attrs)\n",
    "# da_fluxamp.rio.to_raster(file_out)"
   ]
  },
  {
   "cell_type": "markdown",
   "id": "db1969d8",
   "metadata": {},
   "source": [
    "### Plotting"
   ]
  },
  {
   "cell_type": "code",
   "execution_count": null,
   "id": "7d42ef9f",
   "metadata": {},
   "outputs": [],
   "source": [
    "# Check flux data by plotting the first band\n",
    "fig = plt.figure(figsize=[16,6])\n",
    "ax1 = fig.add_subplot(121, projection = ccrs.Orthographic(-70, 20), facecolor=\"white\")\n",
    "ax2 = fig.add_subplot(111, projection = ccrs.Orthographic(70, 20), facecolor=\"white\")\n",
    "c_map=plt.cm.get_cmap('RdYlGn').reversed()\n",
    "p1 = co2InvS.isel(time=0).plot(ax = ax1, transform=ccrs.PlateCarree(), cmap=c_map, add_colorbar=False)\n",
    "p2 = co2InvS.isel(time=0).plot(ax = ax2, transform=ccrs.PlateCarree(), cmap=c_map, add_colorbar=False)\n",
    "ax1.set_global()\n",
    "ax1.coastlines()\n",
    "ax1.set_title(co2InvS.isel(time=0).attrs['long_name'])\n",
    "ax2.set_global()\n",
    "ax2.coastlines()\n",
    "ax2.set_title(co2InvS.isel(time=0).attrs['long_name'])\n",
    "plt.colorbar(p1, label=co2InvS.isel(time=0).attrs['units'])\n",
    "# plt.colorbar(p2, label=co2InvT.isel(time=0).attrs['units'])\n",
    "plt.show()\n"
   ]
  },
  {
   "cell_type": "code",
   "execution_count": null,
   "id": "bbf53ae8",
   "metadata": {},
   "outputs": [],
   "source": [
    "# Plotting of seasonal amplitude time series\n",
    "\n",
    "# Calculate the spatial mean and plot.\n",
    "# regDiffMean = co2InvTD.where(co2InvTD.latitude > 0).where(co2InvTD.latitude < 30).mean(['longitude','latitude'])\n",
    "# The data is now a one dimensional time series, so it is plotted as a line graph.\n",
    "# regDiffMean.plot(label='0N to 30N')\n",
    "regDiffMean = co2InvTD.where(co2InvTD.latitude > 30).where(co2InvTD.latitude < 50).mean(['longitude','latitude'])\n",
    "regDiffMean.plot(label='30N to 50N')\n",
    "regDiffMean = co2InvTD.where(co2InvTD.latitude > 50).mean(['longitude','latitude'])\n",
    "regDiffMean.attrs['units'] = 'tC/ha'  # Add the new units\n",
    "regDiffMean.attrs['long_name'] = \" Land CO2 flux summer-winter amplitude\"\n",
    "del regDiffMean['spatial_ref']  # Remove coordinate so it doesn't show as title.\n",
    "regDiffMean.plot(label='50N to 90N')\n",
    "plt.legend()"
   ]
  },
  {
   "cell_type": "code",
   "execution_count": null,
   "id": "93c0a4dd",
   "metadata": {},
   "outputs": [],
   "source": [
    "# Map plot of flux trends in the northern hemisphere\n",
    "fig = plt.figure(figsize=[12,5])\n",
    "ax = fig.add_subplot(\n",
    "    111,\n",
    "    projection = ccrs.LambertConformal(  # projection=ccrs.Orthographic(0, 90)\n",
    "        central_longitude=10.0,\n",
    "        central_latitude=39.0,\n",
    "        false_easting=0.0,\n",
    "        false_northing=0.0,\n",
    "        standard_parallels=(33, 45),\n",
    "        globe=None, cutoff=30),\n",
    "    facecolor=\"white\"\n",
    ")\n",
    "p = fluxamp_trends.slope.plot(\n",
    "    ax = ax,\n",
    "    transform=ccrs.PlateCarree(),\n",
    "    cmap='RdYlGn',\n",
    "    add_colorbar=False\n",
    ")\n",
    "ax.set_global()\n",
    "ax.coastlines()\n",
    "ax.set_title(fluxamp_trends.slope.attrs['long_name'])\n",
    "plt.colorbar(p, label=fluxamp_trends.slope.attrs['units'])\n",
    "plt.show()"
   ]
  },
  {
   "cell_type": "code",
   "execution_count": null,
   "id": "7796648e",
   "metadata": {},
   "outputs": [],
   "source": [
    "# Map plot of flux trends globally\n",
    "# Plot the region of interest\n",
    "fig = plt.figure(figsize=[16,6])\n",
    "ax1 = fig.add_subplot(121, projection = ccrs.Orthographic(-70, 20), facecolor=\"white\")\n",
    "ax2 = fig.add_subplot(111, projection = ccrs.Orthographic(70, 20), facecolor=\"white\")\n",
    "fluxamp_trends_sig = fluxamp_trends.slope.where(fluxamp_trends.p_value < 0.1) # Change the p+value limit to filter for trend significance\n",
    "p1 = fluxamp_trends_sig.plot(ax = ax1, transform=ccrs.PlateCarree(), cmap='RdYlGn', add_colorbar=False)\n",
    "p2 = fluxamp_trends_sig.plot(ax = ax2, transform=ccrs.PlateCarree(), cmap='RdYlGn', add_colorbar=False)\n",
    "ax1.set_global()\n",
    "ax1.coastlines()\n",
    "ax1.set_title(fluxamp_trends.slope.attrs['long_name'])\n",
    "ax2.set_global()\n",
    "ax2.coastlines()\n",
    "ax2.set_title(fluxamp_trends.slope.attrs['long_name'])\n",
    "plt.colorbar(p1, label=fluxamp_trends.slope.attrs['units'])\n",
    "# plt.colorbar(p2, label=co2InvT.isel(time=0).attrs['units'])\n",
    "plt.show()"
   ]
  }
 ],
 "metadata": {
  "kernelspec": {
   "display_name": "Python 3.9.13 ('landcover')",
   "language": "python",
   "name": "python3"
  },
  "language_info": {
   "codemirror_mode": {
    "name": "ipython",
    "version": 3
   },
   "file_extension": ".py",
   "mimetype": "text/x-python",
   "name": "python",
   "nbconvert_exporter": "python",
   "pygments_lexer": "ipython3",
   "version": "3.9.13"
  },
  "vscode": {
   "interpreter": {
    "hash": "e9c0ace6525dc9bd2cdb9ec438dcef471f1778d0487c57e0c503f5b8fe081a27"
   }
  }
 },
 "nbformat": 4,
 "nbformat_minor": 5
}
