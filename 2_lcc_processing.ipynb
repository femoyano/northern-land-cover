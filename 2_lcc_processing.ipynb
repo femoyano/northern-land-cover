{
 "cells": [
  {
   "cell_type": "markdown",
   "id": "4a1040bb",
   "metadata": {},
   "source": [
    "### Creating new time series rasters for each land cover\n",
    "\n",
    "**Steps**\n",
    "- Define arrays with LC indeces and LC names according to the MODIS LC type used. (see the data documentation)\n",
    "- Define paths to files, create sorted list of file names\n",
    "- Create array of years covered by the data.\n",
    "- Loop over LC types. For each:\n",
    "    - Loop over files. For each:\n",
    "        - Create the file path\n",
    "        - Read the data for the LC type as an xarray\n",
    "        - Add a 'time' dimension\n",
    "        - Add to already read file data by concatenating on the time dimension\n",
    "    - Rename array and attributes as necessary and set a time coordinate with years values\n",
    "    - Create an xarray array using np.array and lat, lon, time dims\n",
    "    - Add array to xr dataset and save to file"
   ]
  },
  {
   "cell_type": "code",
   "execution_count": 1,
   "id": "53796832",
   "metadata": {},
   "outputs": [],
   "source": [
    "# Import packages\n",
    "import os\n",
    "import xarray as xr\n",
    "import rioxarray as rio\n",
    "import numpy as np\n",
    "import rasterio\n",
    "import numpy as np"
   ]
  },
  {
   "cell_type": "markdown",
   "id": "a083b0fa",
   "metadata": {},
   "source": [
    "### General Settings"
   ]
  },
  {
   "cell_type": "code",
   "execution_count": 2,
   "id": "25e5815f",
   "metadata": {},
   "outputs": [],
   "source": [
    "# Default data properties\n",
    "nodata = -9999.0\n",
    "epsg_crs = 4326\n",
    "\n",
    "# Chose the inversion data version. Later (shorter) time series are driven by data from more stations.\n",
    "inversion = 's99'  # Inversion starting year. Options: s85, s99, s06, s10\n",
    "\n",
    "input_dir = '../data_input/'\n",
    "output_dir = '../data_output/'\n",
    "\n",
    "lc_path_in = '/Users/moyanofe/BigData/GeoSpatial/LandCover/LandCover_MODIS_MCD12/MCD12C1'\n",
    "lc_path_out = '/Users/moyanofe/BigData/GeoSpatial/LandCover/LandCover_MODIS_MCD12/MCD12C1_proc'\n",
    "\n",
    "# Index for MCD12C1 Land_Cover_Type_1_Percent: IGBP land cover types\n",
    "lcIndex = [0, 1, 2, 3, 4, 5, 6, 7, 8, 9, 10, 11, 12, 13, 14, 15, 16]\n",
    "lcNames = ['Water', 'ENForest', 'EBForest', 'DNForest', 'DBForest', \n",
    "    'MixForest', 'ClosedShrub', 'OpenShrub', 'WoodySavanna',\n",
    "    'Savanna', 'Grassland', 'PermWetland', 'Cropland',\n",
    "    'Urban', 'CropNatMosiac', 'PermSnowIce', 'Barren']"
   ]
  },
  {
   "cell_type": "markdown",
   "id": "5ab3c2ee",
   "metadata": {},
   "source": [
    "### Processing LC data"
   ]
  },
  {
   "cell_type": "code",
   "execution_count": null,
   "id": "3a6055e1",
   "metadata": {},
   "outputs": [],
   "source": [
    "# Extract individual lc data from files, concatenate into single xarrays and save.\n",
    "\n",
    "files_in = os.listdir(lc_path_in)\n",
    "files_in.sort() # Sort to order files by year (which is part of the file name)\n",
    "files_in = files_in[0:2] # shorten for testing only\n",
    "years = np.arange(stop=len(files_in), step=1) + 2001\n",
    "\n",
    "for i in range(len(lcIndex)): # [0]: #\n",
    "    print(lcNames[i])\n",
    "    # Take each LC from the array and create a new array for each by combining all yearly file\n",
    "    for j in range(len(files_in)): # \n",
    "        print(j)\n",
    "        file = files_in[j]\n",
    "        print(file)\n",
    "        path = os.path.join(lc_path_in, file)\n",
    "        ds_file = rio.open_rasterio(path, masked=True, variable='Land_Cover_Type_1_Percent').squeeze()\n",
    "        ar = ds_file.Land_Cover_Type_1_Percent[i]\n",
    "        ar = ar.expand_dims('time')\n",
    "        # print(ar)\n",
    "        if j == 0:\n",
    "            stacked = ar\n",
    "        else:\n",
    "            stacked = xr.concat([stacked, ar], dim='time')\n",
    "    stacked = stacked.rename(lcNames[i])\n",
    "    stacked.attrs['long_name'] = lcNames[i]\n",
    "    stacked.attrs['units'] = 'percent in integers'\n",
    "    stacked['time'] = ('time', years)\n",
    "    ds_modislc_igbp = xr.Dataset()\n",
    "    ds_modislc_igbp[lcNames[i]] = stacked\n",
    "\n",
    "    # Save each land caover time series to file\n",
    "    file_out = 'MCD12C1.A2001-2021.061.LCtype1.' + lcNames[i] + '.nc'\n",
    "    filepath_out = os.path.join(lc_path_out, file_out)\n",
    "    ds_modislc_igbp.to_netcdf(filepath_out)\n"
   ]
  },
  {
   "cell_type": "code",
   "execution_count": null,
   "id": "d1135c5f",
   "metadata": {},
   "outputs": [],
   "source": [
    "# Save at lower resolution: same as nee data\n",
    "\n",
    "# Load the nee data for reproject_match ----\n",
    "file_neeAmpStats = os.path.join(output_dir, 'neeAmpStats_2010-2021_Inv2010.nc')\n",
    "neeamp = rio.open_rasterio(file_neeAmpStats)\n",
    "\n",
    "# Path to files\n",
    "ds = xr.Dataset()\n",
    "\n",
    "# Loop over files, reproject and save\n",
    "for i in range(len(lcIndex)): # [0]: #\n",
    "    print(lcNames[i])\n",
    "    file_in = 'MCD12C1.A2001-2021.061.LCtype1.' + lcNames[i] + '.nc'\n",
    "    filepath_in = os.path.join(lc_path_out, file_in)\n",
    "    ds_in = rio.open_rasterio(filepath_in, masked=True, variable=lcNames[i])\n",
    "    da = ds_in[lcNames[i]]\n",
    "    da.rio.write_crs(\"epsg:4326\", inplace=True)\n",
    "    da = da.rio.reproject_match(neeamp, resampling=rasterio.enums.Resampling.average)\n",
    "    ds[lcNames[i]] = da\n",
    "\n",
    "file_out = 'MCD12C1.A2001-2021.061.LCtype1.All.lr.nc'\n",
    "filepath_out = os.path.join(lc_path_out, file_out)\n",
    "ds.to_netcdf(filepath_out)"
   ]
  }
 ],
 "metadata": {
  "kernelspec": {
   "display_name": "Python 3.9.13 ('landcover')",
   "language": "python",
   "name": "python3"
  },
  "language_info": {
   "codemirror_mode": {
    "name": "ipython",
    "version": 3
   },
   "file_extension": ".py",
   "mimetype": "text/x-python",
   "name": "python",
   "nbconvert_exporter": "python",
   "pygments_lexer": "ipython3",
   "version": "3.9.15"
  },
  "vscode": {
   "interpreter": {
    "hash": "e9c0ace6525dc9bd2cdb9ec438dcef471f1778d0487c57e0c503f5b8fe081a27"
   }
  }
 },
 "nbformat": 4,
 "nbformat_minor": 5
}
