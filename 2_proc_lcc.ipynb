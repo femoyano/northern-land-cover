{
 "cells": [
  {
   "cell_type": "markdown",
   "id": "b1e45d22",
   "metadata": {},
   "source": [
    "## LCC analysis\n",
    "\n",
    "### Methods:\n",
    "\n",
    "1. Load geometries, co2flux amp trends, and LCC data and preprocess as necessary.\n",
    "2. Clip to ROI (region of interest). Use a small region for testing puposes.\n",
    "3. Reduce land cover data to the resolution of the co2flux data, creating new images with bands representing the fraction of cover per pixel per land type\n",
    "4. Calculate \n",
    "\n",
    "### Notes\n",
    "\n",
    "Consider doing reduction in Earth Engine first, then downloading results at lower resolution.\n",
    "\n",
    "#### Applying same crs to all data\n",
    "\n",
    "Using the common WGS84: EPSG 4326. This should be set to all rasters used. If the crs was WGS84 but the property was not set, then use:  \n",
    "`mydata.rio.write_crs(\"epsg:4326\", inplace=True)`  \n",
    "Else, change the crs with   \n",
    "`mydata.rio.reproject(\"EPSG:4326\")`  \n",
    "When adding more datasets, these can be adjusted to the first using:  \n",
    "`mydata2 = mydata2.rio.reproject_match(mydata)`  \n",
    "\n",
    "#### Check if missing data value is set\n",
    "`mydata.rio.nodata` or `mydata.rio.encoded_nodata` will show the fill value if it is set\n",
    "`mydata.rio.set_nodata(-9999, inplace=True)` # will set the nadata attrribute without modifying the data\n",
    "`mydata.rio.write_nodata(-9999, inplace=True)` # will write to the array (I guess replacing the existing missing data value?) Need to test.\n",
    "\n",
    "Note that the reproject_match method from above will modify the nodata value of mydata2 to match that of mydata.  \n",
    "\n",
    "Use the following to mask the missing data:  \n",
    "```\n",
    "nodata = raster.rio.nodata\n",
    "raster = raster.where(raster != nodata)\n",
    "raster.rio.write_nodata(nodata, encoded=True, inplace=True)\n",
    "```"
   ]
  }
 ],
 "metadata": {
  "kernelspec": {
   "display_name": "Python 3.9.13 ('landcover')",
   "language": "python",
   "name": "python3"
  },
  "language_info": {
   "codemirror_mode": {
    "name": "ipython",
    "version": 3
   },
   "file_extension": ".py",
   "mimetype": "text/x-python",
   "name": "python",
   "nbconvert_exporter": "python",
   "pygments_lexer": "ipython3",
   "version": "3.9.13"
  },
  "vscode": {
   "interpreter": {
    "hash": "e9c0ace6525dc9bd2cdb9ec438dcef471f1778d0487c57e0c503f5b8fe081a27"
   }
  }
 },
 "nbformat": 4,
 "nbformat_minor": 5
}
