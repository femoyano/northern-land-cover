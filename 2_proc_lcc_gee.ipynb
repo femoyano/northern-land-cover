{
 "cells": [
  {
   "cell_type": "markdown",
   "id": "b1e45d22",
   "metadata": {},
   "source": [
    "## LCC analysis\n",
    "\n",
    "### Methods:\n",
    "\n",
    "1. Load geometries, co2flux amp trends, and LCC data and preprocess as necessary.\n",
    "2. Clip to ROI (region of interest). Use a small region for testing puposes.\n",
    "3. Reduce land cover data to the resolution of the co2flux data, creating new images with bands representing the fraction of cover per pixel per land type\n",
    "4. Calculate "
   ]
  },
  {
   "cell_type": "code",
   "execution_count": 1,
   "id": "53796832",
   "metadata": {},
   "outputs": [],
   "source": [
    "import rioxarray as rio\n",
    "import xarray as xr\n",
    "import pandas as pd\n",
    "import numpy as np\n",
    "import cartopy.crs as ccrs\n",
    "import matplotlib.pyplot as plt\n",
    "import folium"
   ]
  },
  {
   "cell_type": "code",
   "execution_count": 2,
   "id": "23366cf5",
   "metadata": {},
   "outputs": [],
   "source": [
    "import ee\n",
    "ee.Initialize()\n",
    "\n",
    "co2amp = ee.Image(\"projects/augs-geo-recovery/assets/CO2InvSeasAmpTrend_CarboScope_s85ocv2022\")\n",
    "modis_lc = ee.ImageCollection('MODIS/006/MCD12Q1')\n",
    "# Initial date of interest (inclusive).\n",
    "i_date = '2001-01-01'\n",
    "# Final date of interest (exclusive).\n",
    "f_date = '2022-01-01'\n",
    "# Selection of appropriate bands and dates for LST.\n",
    "igbp_lc = modis_lc.select('LC_Type1').filterDate(i_date, f_date)"
   ]
  },
  {
   "cell_type": "code",
   "execution_count": null,
   "id": "368ee25e",
   "metadata": {},
   "outputs": [],
   "source": [
    "\n",
    "lcIndex = [1, 2, 3, 4, 5, 6, 7, 8, 9, 10, 11, 12, 13, 14, 15, 16]\n",
    "lcNames = ['ENForest', 'EBForest', 'DNForest', 'DBForest', \n",
    "    'MixForest', 'ClosedShrub', 'OpenShrub', 'WoodySavanna',\n",
    "    'Savanna', 'Grassland', 'PermWetland', 'Cropland',\n",
    "    'Urban', 'CropNatMosiac', 'PermSnowIce', 'Barren']\n",
    "def masklc(img):\n",
    "    tmp = img.select('LC_Type1').eq(ind).rename(name)\n",
    "    return img.addBands(tmp)\n",
    "\n",
    "for i in range(len(lcIndex)):\n",
    "    ind = ee.Number(lcIndex[i])\n",
    "    name = ee.String(lcNames[i])\n",
    "    igbp_lc = igbp_lc.map(masklc)"
   ]
  },
  {
   "cell_type": "code",
   "execution_count": null,
   "id": "60061914",
   "metadata": {},
   "outputs": [],
   "source": [
    "# Code for creating an interactive map\n",
    "\n",
    "def add_ee_layer(self, ee_image_object, vis_params, name):\n",
    "    \"\"\"Adds a method for displaying Earth Engine image tiles to folium map.\"\"\"\n",
    "    map_id_dict = ee.Image(ee_image_object).getMapId(vis_params)\n",
    "    folium.raster_layers.TileLayer(\n",
    "        tiles=map_id_dict['tile_fetcher'].url_format,\n",
    "        attr='Map Data &copy; <a href=\"https://earthengine.google.com/\">Google Earth Engine</a>',\n",
    "        name=name,\n",
    "        overlay=True,\n",
    "        control=True\n",
    "    ).add_to(self)\n",
    "\n",
    "# Add Earth Engine drawing method to folium.\n",
    "folium.Map.add_ee_layer = add_ee_layer\n",
    "\n",
    "# Set visualization parameters for land cover.\n",
    "lc_vis_params = {\n",
    "    'min': 0,'max': 1,\n",
    "    'palette': ['000000', '05450a']\n",
    "}\n",
    "\n",
    "lc = 'MixForest'\n",
    "igbp_enf_2001 = igbp_lc.first()\n",
    "lat, lon = 45.77, 4.855\n",
    "my_map = folium.Map(location=[lat, lon], zoom_start=2)\n",
    "mask = igbp_enf_2001.select(lc)\n",
    "plotimg = igbp_enf_2001.select(lc).updateMask(mask)\n",
    "my_map.add_ee_layer(plotimg, lc_vis_params, 'land cover')\n",
    "my_map.add_child(folium.LayerControl())\n",
    "display(my_map)"
   ]
  }
 ],
 "metadata": {
  "kernelspec": {
   "display_name": "Python 3.9.13 ('landcover')",
   "language": "python",
   "name": "python3"
  },
  "language_info": {
   "codemirror_mode": {
    "name": "ipython",
    "version": 3
   },
   "file_extension": ".py",
   "mimetype": "text/x-python",
   "name": "python",
   "nbconvert_exporter": "python",
   "pygments_lexer": "ipython3",
   "version": "3.9.13"
  },
  "vscode": {
   "interpreter": {
    "hash": "e9c0ace6525dc9bd2cdb9ec438dcef471f1778d0487c57e0c503f5b8fe081a27"
   }
  }
 },
 "nbformat": 4,
 "nbformat_minor": 5
}
