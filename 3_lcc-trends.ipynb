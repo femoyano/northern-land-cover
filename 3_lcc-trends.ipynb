{
 "cells": [
  {
   "cell_type": "markdown",
   "id": "b1e45d22",
   "metadata": {},
   "source": [
    "## Calculate land cover trends\n",
    "\n",
    "Prepare temporal statistics (trend, intercept, stdev) data at the co2-data resolution\n",
    "\n",
    "Land cover types: \n",
    "- individual types \n",
    "- total forest \n",
    "- shrub+savanna \n",
    "- grassland \n",
    "- cropland \n",
    "- grassland+cropland+CropNatMosiac  \n"
   ]
  },
  {
   "cell_type": "code",
   "execution_count": null,
   "id": "53796832",
   "metadata": {},
   "outputs": [],
   "source": [
    "# Import packages\n",
    "import os\n",
    "import rioxarray as rio\n",
    "import xarray as xr\n",
    "from xarrayutils.utils import linear_trend"
   ]
  },
  {
   "cell_type": "markdown",
   "id": "c2a3b2d3",
   "metadata": {},
   "source": [
    "### General Settings"
   ]
  },
  {
   "cell_type": "code",
   "execution_count": null,
   "id": "e0e4d78a",
   "metadata": {},
   "outputs": [],
   "source": [
    "output_dir = '../data_output/'\n",
    "inversion = 's99'\n",
    "lc_proc_path = '/Users/moyanofe/BigData/GeoSpatial/LandCover/LandCover_MODIS_MCD12/MCD12C1_proc'\n",
    "file_in = 'MCD12C1.A2001-2021.061.LCtype1.All.lr.nc'"
   ]
  },
  {
   "cell_type": "markdown",
   "id": "1e7da979",
   "metadata": {},
   "source": [
    "### Load data"
   ]
  },
  {
   "cell_type": "code",
   "execution_count": null,
   "id": "3d86da6a",
   "metadata": {},
   "outputs": [],
   "source": [
    "# Load the co2 data ----\n",
    "file_co2amp_trend = os.path.join(output_dir, 'co2invSeasAmpTrend_' + inversion + '.nc')\n",
    "co2amp = rio.open_rasterio(file_co2amp_trend)\n",
    "co2amp.rio.write_crs(4326, inplace=True)"
   ]
  },
  {
   "cell_type": "markdown",
   "id": "e0ce18d3",
   "metadata": {},
   "source": [
    "### Preparing LC data"
   ]
  },
  {
   "cell_type": "code",
   "execution_count": null,
   "id": "02073720",
   "metadata": {},
   "outputs": [],
   "source": [
    "\n",
    "# Index for MCD12C1 Land_Cover_Type_1_Percent: IGBP land cover types\n",
    "lcIndex = [0, 1, 2, 3, 4, 5, 6, 7, 8, 9, 10, 11, 12, 13, 14, 15, 16]\n",
    "lcNames = ['Water', 'ENForest', 'EBForest', 'DNForest', 'DBForest', \n",
    "    'MixForest', 'ClosedShrub', 'OpenShrub', 'WoodySavanna',\n",
    "    'Savanna', 'Grassland', 'PermWetland', 'Cropland',\n",
    "    'Urban', 'CropNatMosiac', 'PermSnowIce', 'Barren']"
   ]
  },
  {
   "cell_type": "markdown",
   "id": "658f4195",
   "metadata": {},
   "source": [
    "### Calculating trends\n",
    "\n",
    "The linear_trend function from xarrayutils.utils returns an xarray dataset with variables including slope, intercept, p-value\n"
   ]
  },
  {
   "cell_type": "code",
   "execution_count": null,
   "id": "0e04e645",
   "metadata": {},
   "outputs": [],
   "source": [
    "# Load the low resolution LC data\n",
    "\n",
    "filepath_in = os.path.join(lc_proc_path, file_in)\n",
    "ds_lc = rio.open_rasterio(filepath_in, masked=True)\n",
    "\n",
    "\n",
    "# Calculate trends and intercept for each LC type\n",
    "\n",
    "ds_lcTrends = xr.Dataset()\n",
    "\n",
    "for i in range(len(lcNames)): # [0]: # range(len(lcNames)):\n",
    "    # print(lcNames[i])\n",
    "    da_lc = ds_lc[lcNames[i]]\n",
    "    # Calculate trends\n",
    "    lc_trend = linear_trend(da_lc, 'time')\n",
    "    lc_trend = lc_trend.to_array()\n",
    "    lc_trend.attrs['units'] = 'percent/y'  # Should change to an array with units for each variable\n",
    "    lc_trend.attrs['long_name'] = 'Trend in land cover' # Should change to an array with names for each variable\n",
    "    lc_trend.rio.write_crs(4326, inplace=True)\n",
    "    ds_lcTrends[lcNames[i]] = lc_trend\n",
    "\n",
    "\n",
    "# Calculate trends for grouped LC types\n",
    "\n",
    "lcNamesNew = ['Forest', 'Shrub', 'GrassCrop']\n",
    "ds_lc['Forest'] = ds_lc['ENForest'] + ds_lc['EBForest'] + ds_lc['DNForest'] + ds_lc['DBForest'] + + ds_lc['WoodySavanna']\n",
    "ds_lc['Shrub'] = ds_lc['ClosedShrub'] + ds_lc['OpenShrub']\n",
    "ds_lc['GrassCrop'] = ds_lc['Grassland'] + ds_lc['Cropland'] + ds_lc['CropNatMosiac']\n",
    "\n",
    "\n",
    "for i in range(len(lcNamesNew)): # [0]: # range(len(lcNamesNew)):\n",
    "    # print(lcNamesNew[i])\n",
    "    da_lc = ds_lc[lcNamesNew[i]]\n",
    "    # Calculate trends\n",
    "    lc_trend = linear_trend(da_lc, 'time')\n",
    "    lc_trend = lc_trend.to_array()\n",
    "    lc_trend.attrs['units'] = 'percent/y'  # Should change to an array with units for each variable\n",
    "    lc_trend.attrs['long_name'] = 'Trend in land cover' # Should change to an array with names for each variable\n",
    "    lc_trend.rio.write_crs(4326, inplace=True)\n",
    "    ds_lcTrends[lcNamesNew[i]] = lc_trend\n",
    "\n",
    "\n",
    "# Save trends to file\n",
    "\n",
    "file_out = os.path.join(output_dir, 'MCD12C1.A2001-2021.061.LCtype1.lr.Trends.nc')\n",
    "ds_lcTrends.to_netcdf(file_out)"
   ]
  },
  {
   "cell_type": "code",
   "execution_count": null,
   "id": "6caeadc6",
   "metadata": {},
   "outputs": [],
   "source": [
    "ds_lcTrends"
   ]
  },
  {
   "cell_type": "markdown",
   "id": "63be4712",
   "metadata": {},
   "source": [
    "### Plots"
   ]
  },
  {
   "cell_type": "code",
   "execution_count": null,
   "id": "7796648e",
   "metadata": {},
   "outputs": [],
   "source": [
    "# Map plot of lc trends globally\n",
    "\n",
    "# Import plotting packages\n",
    "import matplotlib.pyplot as plt\n",
    "import cartopy.crs as ccrs\n",
    "\n",
    "# ['Water', 'ENForest', 'EBForest', 'DNForest', 'DBForest', \n",
    "#     'MixForest', 'ClosedShrub', 'OpenShrub', 'WoodySavanna',\n",
    "#     'Savanna', 'Grassland', 'PermWetland', 'Cropland',\n",
    "#     'Urban', 'CropNatMosiac', 'PermSnowIce', 'Barren']\n",
    "\n",
    "# Select data to plot\n",
    "lc = 'DBForest'\n",
    "p_lim = 0.1\n",
    "\n",
    "plotdata = ds_lcTrends[lc].sel(variable='slope')\n",
    "p_val = ds_lcTrends[lc].sel(variable='p_value')\n",
    "\n",
    "fig = plt.figure(figsize=[16,6])\n",
    "ax1 = fig.add_subplot(121, projection = ccrs.Orthographic(-70, 20), facecolor=\"white\")\n",
    "ax2 = fig.add_subplot(111, projection = ccrs.Orthographic(70, 20), facecolor=\"white\")\n",
    "plotdata_sig = plotdata.where(p_val < p_lim) # Change the p+value limit to filter for trend significance\n",
    "p1 = plotdata_sig.plot(ax = ax1, transform=ccrs.PlateCarree(), cmap='RdYlGn', add_colorbar=False)\n",
    "p2 = plotdata_sig.plot(ax = ax2, transform=ccrs.PlateCarree(), cmap='RdYlGn', add_colorbar=False)\n",
    "ax1.set_global()\n",
    "ax1.coastlines()\n",
    "ax1.set_title(plotdata.attrs['long_name'])\n",
    "ax2.set_global()\n",
    "ax2.coastlines()\n",
    "ax2.set_title(plotdata.attrs['long_name'])\n",
    "plt.colorbar(p1, label=plotdata.attrs['units'])\n",
    "# plt.colorbar(p2, label=co2InvT.isel(time=0).attrs['units'])\n",
    "plt.show()"
   ]
  }
 ],
 "metadata": {
  "kernelspec": {
   "display_name": "Python 3.9.13 ('landcover')",
   "language": "python",
   "name": "python3"
  },
  "language_info": {
   "codemirror_mode": {
    "name": "ipython",
    "version": 3
   },
   "file_extension": ".py",
   "mimetype": "text/x-python",
   "name": "python",
   "nbconvert_exporter": "python",
   "pygments_lexer": "ipython3",
   "version": "3.9.13"
  },
  "vscode": {
   "interpreter": {
    "hash": "e9c0ace6525dc9bd2cdb9ec438dcef471f1778d0487c57e0c503f5b8fe081a27"
   }
  }
 },
 "nbformat": 4,
 "nbformat_minor": 5
}
