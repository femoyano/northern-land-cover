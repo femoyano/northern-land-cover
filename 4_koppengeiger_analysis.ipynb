{
 "cells": [
  {
   "cell_type": "markdown",
   "metadata": {},
   "source": [
    "## Regional Analysis\n",
    "\n",
    "### Steps\n",
    "\n",
    "#### Step 1: Selection of regions of interest\n",
    "\n",
    "In this step we rank regions by their CO2 flux seasonal amplitude variance over time.\n",
    "For each region, the temporal CO2 amp variance and total area are calculated.\n",
    "Region to analyze further can then be selcted by ranking them according to variance or weighted variance\n",
    "\n",
    "1. Load regions data\n",
    "2. Loop over regions. For each:\n",
    "    - Calculate the variance in co2 flux seasonal amplitude\n",
    "    - Calculate the total area\n",
    "3. Calculate global sum of variance*area\n",
    "4. Replace raster region indices with variance values and plot maps\n",
    "\n",
    "### Notes:\n",
    "\n",
    "For regions, currently using the Koppen-Geiger data from : http://koeppen-geiger.vu-wien.ac.at/\n"
   ]
  },
  {
   "cell_type": "code",
   "execution_count": null,
   "metadata": {},
   "outputs": [],
   "source": [
    "import os\n",
    "import pandas as pd\n",
    "import rioxarray as rio\n",
    "import xarray as xr\n",
    "import geopandas as gpd\n",
    "import matplotlib as mpl\n",
    "from matplotlib.colors import ListedColormap\n",
    "import numpy as np\n",
    "import matplotlib.pyplot as plt\n",
    "import cartopy.crs as ccrs"
   ]
  },
  {
   "cell_type": "code",
   "execution_count": null,
   "metadata": {},
   "outputs": [],
   "source": [
    "# reading in regions and setting nodata values\n",
    "\n",
    "# kopp = rio.open_rasterio('../data_input/KoeppenGeiger3_KG3_CRUTS32_Hist_7100.tif', mask_and_scale=False)\n",
    "kopp = rio.open_rasterio(\n",
    "    '../data_input/VU-VIENA/KG_1986-2010.grd', mask_and_scale=False)\n",
    "kopp.rio.write_nodata(32, inplace=True)\n",
    "kopp = kopp.where(kopp != kopp.rio.nodata)\n",
    "kopp.rio.write_nodata(32, encoded=True, inplace=True)\n",
    "kopp = kopp.rio.reproject(\"EPSG:4326\")\n",
    "# print(f\"nodata: {kopp.rio.nodata}\")\n",
    "# print(f\"encoded_nodata: {kopp.rio.encoded_nodata}\")"
   ]
  },
  {
   "cell_type": "code",
   "execution_count": null,
   "metadata": {},
   "outputs": [],
   "source": [
    "\n",
    "# Define required variables\n",
    "\n",
    "cont_bounds = {'Asia': [24,0,190,81], 'Europe': [-31, 35, 69, 81], 'North America': [-178, 0, -15, 84]}\n",
    "\n",
    "kopp_ind = np.unique(kopp.data[~np.isnan(kopp.data)]).astype(int)\n",
    "\n",
    "# Color list and labels (including oceans as layer 32)\n",
    "kopp_cols = np.array([\"#960000\", \"#FF0000\", \"#FF6E6E\", \"#FFCCCC\", \"#CC8D14\", \"#CCAA54\", \"#FFCC00\", \"#FFFF64\", \"#007800\", \"#005000\",\n",
    "          \"#003200\", \"#96FF00\", \"#00D700\", \"#00AA00\", \"#BEBE00\", \"#8C8C00\", \"#5A5A00\", \"#550055\", \"#820082\", \"#C800C8\",\n",
    "          \"#FF6EFF\", \"#646464\", \"#8C8C8C\", \"#BEBEBE\", \"#E6E6E6\", \"#6E28B4\", \"#B464FA\", \"#C89BFA\", \"#C8C8FF\", \"#6496FF\",\n",
    "          \"#64FFFF\", \"#F5FFFF\"])\n",
    "\n",
    "kopp_labels = np.array(['Af', 'Am', 'As', 'Aw', 'BSh', 'BSk', 'BWh', 'BWk', 'Cfa', 'Cfb',\n",
    "            'Cfc', 'Csa', 'Csb', 'Csc', 'Cwa', 'Cwb', 'Cwc', 'Dfa', 'Dfb', 'Dfc',\n",
    "            'Dfd', 'Dsa', 'Dsb', 'Dsc', 'Dsd', 'Dwa', 'Dwb', 'Dwc', 'Dwd', 'EF',\n",
    "            'ET', 'Ocean'])\n",
    "            \n",
    "# If setting ocean layer 32 as missing, do:\n",
    "kopp_cols = kopp_cols[0:-1]\n",
    "kopp_labels = kopp_labels[0:-1]\n"
   ]
  },
  {
   "cell_type": "code",
   "execution_count": null,
   "metadata": {},
   "outputs": [],
   "source": [
    "# Plotting function: map plot of flux trends in the northern hemisphere\n",
    "\n",
    "def plot_global(rast, cols, ticks, labels, fig_size):\n",
    "    # cols is either a lost of colors or the name of an inbuilt matplotlib colormap\n",
    "    \n",
    "    if isinstance(cols, str):\n",
    "        cmap = mpl.cm.get_cmap(cols)\n",
    "    else:\n",
    "        cmap = ListedColormap(cols)\n",
    "\n",
    "    norm = mpl.colors.BoundaryNorm(np.append(ticks, ticks[-1]+1), ncolors=cmap.N)\n",
    "    fig = plt.figure(figsize=fig_size)\n",
    "    ax = fig.add_subplot(\n",
    "        111,\n",
    "        projection=ccrs.PlateCarree(),\n",
    "        facecolor=\"white\"\n",
    "    )\n",
    "    p = rast.plot(\n",
    "        ax=ax,\n",
    "        transform=ccrs.PlateCarree(),\n",
    "        cmap=cmap,\n",
    "        norm=norm,\n",
    "        add_colorbar=False,\n",
    "        # vmin=1., # activate vmin and vmax if not using norm\n",
    "        # vmax=31., \n",
    "    )\n",
    "    # ax.set_global()\n",
    "    ax.coastlines()\n",
    "    ax.set_title('Koeppen-Geiger Regions')\n",
    "    cbar = fig.colorbar(p, label=None, ticks=ticks+np.append(np.diff(ticks)/2, 0.5)) # This sets the tick positions at the middle of the colorbar boxes\n",
    "    cbar = cbar.ax.set_yticklabels(labels)\n"
   ]
  },
  {
   "cell_type": "code",
   "execution_count": null,
   "metadata": {},
   "outputs": [],
   "source": [
    "# Plot regions to check all looks good.\n",
    "\n",
    "plot_global(kopp, kopp_cols, kopp_ind, kopp_labels, [17,7])"
   ]
  },
  {
   "cell_type": "markdown",
   "metadata": {},
   "source": [
    "## Regional analysis"
   ]
  },
  {
   "cell_type": "code",
   "execution_count": null,
   "metadata": {},
   "outputs": [],
   "source": [
    "# read in files: co2 data and continent vector file\n",
    "conts = gpd.read_file('../data_input/continents.geojson')\n",
    "co2fluxamp = rio.open_rasterio('../data_output/co2fluxAmp_Inv1999.nc')\n",
    "\n",
    "\n",
    "# Create a template dataframe to save results\n",
    "regind = np.unique(kopp.data[~np.isnan(kopp.data)]).astype(int)\n",
    "df_regions = pd.DataFrame({'regind': regind, 'regname': kopp_labels,\n",
    "                          'regcolor': kopp_cols, 'area': np.nan, 'co2amp_var': np.nan})\n",
    "# Create a dictionary to hold dataframes for each continent\n",
    "conts_dict = dict()\n",
    "\n",
    "# Create area grid for co2fluxamp grid cells\n",
    "latcos = np.cos(np.deg2rad(co2fluxamp.y))\n",
    "latcos.name = \"weights\"\n",
    "area_co2res = co2fluxamp[1].squeeze()\n",
    "# Aproximate grid area at Equator\n",
    "area_co2res = area_co2res.where(area_co2res.isnull(), other=(2 * 111) * (2.5 * 111))\n",
    "\n",
    "# Reproject kopp to co2 resolution\n",
    "kopp_rp = kopp.rio.reproject_match(co2fluxamp)\n"
   ]
  },
  {
   "cell_type": "code",
   "execution_count": null,
   "metadata": {},
   "outputs": [],
   "source": [
    "# Function to get region area and variance for a continent\n",
    "\n",
    "def reg_analysis(cont_name):\n",
    "    # cont_name is the continent name string as found in the conts geopandas object\n",
    "    cont = conts[conts['CONTINENT'] == cont_name]\n",
    "    kopp_sel = kopp_rp.rio.clip(cont.geometry, cont.crs, all_touched=True).rio.clip_box(\n",
    "        minx=cont_bounds[cont_name][0],\n",
    "        miny=cont_bounds[cont_name][1],\n",
    "        maxx=cont_bounds[cont_name][2],\n",
    "        maxy=cont_bounds[cont_name][3],\n",
    "        crs=\"EPSG:4326\"\n",
    "    ).squeeze()  # Get rid of the 'band' dimension\n",
    "    del kopp_sel['band']\n",
    "    \n",
    "    # Make copy of DF to store results\n",
    "    df_results = df_regions.copy()\n",
    "\n",
    "    # Create list of region indices\n",
    "    region_index = np.unique(kopp_sel.data[~np.isnan(kopp_sel.data)]).astype(int)\n",
    "\n",
    "    # plot_global(kopp_sel, kopp_cols[(region_index-1)], kopp_ind[(region_index-1)], kopp_labels[(region_index-1)], [20,7])\n",
    "    plot_global(kopp_sel, kopp_cols[(region_index-1)], region_index, kopp_labels[(region_index-1)], [20,7])\n",
    "\n",
    "    # Loop over region indices and calculate statistics of CO2 fluxes\n",
    "    for i in range(len(region_index)):  # [15]: #\n",
    "        roi = region_index[i]\n",
    "        reg_co2amp = co2fluxamp.where(kopp_sel == roi)\n",
    "        reg_area = area_co2res.where(kopp_sel == roi).weighted(latcos)\n",
    "        totarea = reg_area.sum().data\n",
    "        mean_var = reg_co2amp.var(dim='year').mean().data\n",
    "        df_results.loc[df_results['regind'] ==\n",
    "                       roi, 'ampvar'] = np.round(mean_var, 3)\n",
    "        df_results.loc[df_results['regind'] == roi, 'area'] = np.round(totarea)\n",
    "\n",
    "    df_results = df_results.loc[~df_results['area'].isna(),:]\n",
    "    df_results['ampvararea'] = np.round(\n",
    "        df_results['area'] * df_results['ampvar'])\n",
    "    df_results = df_results.sort_values('ampvararea', ascending=False)\n",
    "    df_results['ampvararea_sum_cont'] = df_results['ampvararea'].cumsum()\n",
    "    amparea_sum = df_results['ampvararea'].sum()\n",
    "\n",
    "    print('Total amparea sum = : ', amparea_sum, '\\n')\n",
    "    print('80% of amparea sum = : ', amparea_sum * 0.8, '\\n')\n",
    "\n",
    "    # Explore data\n",
    "    df_results.sort_values('area', ascending=False).plot.bar('regname', 'area')\n",
    "    df_results.sort_values('ampvar', ascending=False).plot.bar(\n",
    "        'regname', 'ampvar')\n",
    "    df_results.sort_values('ampvararea', ascending=False).plot.bar(\n",
    "        'regname', 'ampvararea')\n",
    "    \n",
    "    df_results['continent'] = cont_name\n",
    "\n",
    "    return (df_results)\n"
   ]
  },
  {
   "cell_type": "markdown",
   "metadata": {},
   "source": [
    "### Analysis for each NH continent"
   ]
  },
  {
   "cell_type": "code",
   "execution_count": null,
   "metadata": {},
   "outputs": [],
   "source": [
    "df_co2_as = reg_analysis(\"Asia\")"
   ]
  },
  {
   "cell_type": "code",
   "execution_count": null,
   "metadata": {},
   "outputs": [],
   "source": [
    "df_co2_eu = reg_analysis(\"Europe\")"
   ]
  },
  {
   "cell_type": "code",
   "execution_count": null,
   "metadata": {},
   "outputs": [],
   "source": [
    "df_co2_na = reg_analysis(\"North America\")"
   ]
  },
  {
   "cell_type": "code",
   "execution_count": null,
   "metadata": {},
   "outputs": [],
   "source": [
    "# Concatenate data frames\n",
    "df_co2_glob = pd.concat([df_co2_as, df_co2_eu, df_co2_na], axis=0)\n",
    "df_co2_glob = df_co2_glob.sort_values('ampvararea', ascending=False)\n",
    "df_co2_glob['ampvararea_sum_glob'] = df_co2_glob['ampvararea'].cumsum()"
   ]
  },
  {
   "cell_type": "code",
   "execution_count": null,
   "metadata": {},
   "outputs": [],
   "source": [
    "# Calculating total area\n",
    "amparea_sum = df_co2_glob['ampvararea'].sum()\n",
    "print('Total amparea sum = : ', amparea_sum, '\\n')\n",
    "print('80% of amparea sum = : ', amparea_sum * 0.8, '\\n')"
   ]
  },
  {
   "cell_type": "code",
   "execution_count": null,
   "metadata": {},
   "outputs": [],
   "source": [
    "# Create rasters with amp and area*amp values instead of region indices\n",
    "\n",
    "ds_kopp_co2 = xr.Dataset({'region_index': kopp_rp})\n",
    "\n",
    "def recodeConts():\n",
    "\n",
    "    ampvararea_out = dict()\n",
    "    ampvar_out = dict()\n",
    "    cont_names = ['Asia', 'Europe', 'North America']\n",
    "\n",
    "    for cont_name in cont_names:\n",
    "        cont = conts[conts['CONTINENT'] == cont_name]\n",
    "        kopp_sel = kopp_rp.rio.clip(cont.geometry, cont.crs, all_touched=True).rio.clip_box(\n",
    "            minx=cont_bounds[cont_name][0],\n",
    "            miny=cont_bounds[cont_name][1],\n",
    "            maxx=cont_bounds[cont_name][2],\n",
    "            maxy=cont_bounds[cont_name][3],\n",
    "            crs=\"EPSG:4326\"\n",
    "        ).squeeze()  # Get rid of the 'band' dimension\n",
    "        del kopp_sel['band']\n",
    "\n",
    "        # Create list of region indices\n",
    "        region_index = np.unique(kopp_sel.data[~np.isnan(kopp_sel.data)]).astype(int)\n",
    "        kopp_ampvararea = kopp_sel\n",
    "        kopp_ampvar = kopp_sel\n",
    "\n",
    "        for i in range(len(region_index)):\n",
    "            regind = region_index[i]\n",
    "            ampvararea = df_co2_glob.loc[(df_co2_glob['continent'] == cont_name) & (df_co2_glob['regind'] == regind), 'ampvararea'].to_numpy()\n",
    "            ampvar = df_co2_glob.loc[(df_co2_glob['continent'] == cont_name) & (df_co2_glob['regind'] == regind), 'ampvar'].to_numpy()\n",
    "            kopp_ampvararea = xr.where(kopp_ampvararea == regind, ampvararea, kopp_ampvararea)\n",
    "            kopp_ampvar = xr.where(kopp_ampvar == regind, ampvar, kopp_ampvar)\n",
    "        \n",
    "        ampvararea_out[cont_name] = kopp_ampvararea\n",
    "        ampvar_out[cont_name] = kopp_ampvar\n",
    "    \n",
    "    kopp_ampvararea = ampvararea_out['Asia'].combine_first(ampvararea_out['Europe']).combine_first(ampvararea_out['North America'])\n",
    "    kopp_ampvar = ampvar_out['Asia'].combine_first(ampvar_out['Europe']).combine_first(ampvar_out['North America'])\n",
    "    ds_kopp_co2['ampvararea'] = kopp_ampvararea\n",
    "    ds_kopp_co2['ampvar'] = kopp_ampvar\n",
    "\n",
    "recodeConts()"
   ]
  },
  {
   "cell_type": "code",
   "execution_count": null,
   "metadata": {},
   "outputs": [],
   "source": [
    "# Make map plots of (area weighted) seasonal co2 flux amp variance\n",
    "\n",
    "def plotGradMap(rast, cols, title):\n",
    "    cmap = mpl.cm.get_cmap(cols)\n",
    "    fig = plt.figure(figsize=[30,7])\n",
    "    ax = fig.add_subplot(\n",
    "        111,\n",
    "        projection=ccrs.PlateCarree(),\n",
    "        facecolor=\"white\"\n",
    "    )\n",
    "    p = rast.plot(\n",
    "        ax=ax,\n",
    "        transform=ccrs.PlateCarree(),\n",
    "        cmap=cmap,\n",
    "        # add_colorbar=False,\n",
    "    )\n",
    "    ax.coastlines()\n",
    "    ax.set_title(title)\n",
    "\n",
    "ds_kopp_co2['ampvararea'].attrs['long_name'] = 'CO2 Flux Amplitude Variance * Region Area (sqkm)'\n",
    "plotGradMap(ds_kopp_co2['ampvararea'], 'Oranges', 'Regional Area-Weighted Temporal Variance in CO2 Seasonal Amplitude')\n",
    "\n",
    "ds_kopp_co2['ampvar'].attrs['long_name'] = 'CO2 Flux Amplitude Variance'\n",
    "plotGradMap(ds_kopp_co2['ampvar'], 'Oranges', 'Regional Temporal Variance in CO2 Seasonal Amplitude')"
   ]
  }
 ],
 "metadata": {
  "kernelspec": {
   "display_name": "Python 3.9.13 ('landcover')",
   "language": "python",
   "name": "python3"
  },
  "language_info": {
   "codemirror_mode": {
    "name": "ipython",
    "version": 3
   },
   "file_extension": ".py",
   "mimetype": "text/x-python",
   "name": "python",
   "nbconvert_exporter": "python",
   "pygments_lexer": "ipython3",
   "version": "3.9.15"
  },
  "orig_nbformat": 4,
  "vscode": {
   "interpreter": {
    "hash": "e9c0ace6525dc9bd2cdb9ec438dcef471f1778d0487c57e0c503f5b8fe081a27"
   }
  }
 },
 "nbformat": 4,
 "nbformat_minor": 2
}
