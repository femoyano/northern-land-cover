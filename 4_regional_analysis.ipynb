{
 "cells": [
  {
   "cell_type": "markdown",
   "metadata": {},
   "source": [
    "## Regional Analysis\n",
    "\n",
    "### Steps\n",
    "\n",
    "1. Load regions data\n",
    "2. Loop over regions. For each:\n",
    "    - Calculate the variance in co2 flux seasonal amplitude\n",
    "3. Rank the regions by amplitude\n",
    "4. Select quantile of regions with highest variance\n",
    "\n",
    "### Notes:\n",
    "\n",
    "Koppen Geiger data from : http://koeppen-geiger.vu-wien.ac.at/\n"
   ]
  },
  {
   "cell_type": "code",
   "execution_count": null,
   "metadata": {},
   "outputs": [],
   "source": [
    "import os\n",
    "import pandas as pd\n",
    "import rioxarray as rxr\n",
    "import xarray as xr\n",
    "import geopandas as gpd\n",
    "import rasterio as ras\n",
    "from matplotlib import pyplot\n",
    "from rasterio.plot import show\n",
    "import matplotlib as mpl\n",
    "from matplotlib.colors import ListedColormap\n",
    "import numpy as np\n",
    "import matplotlib.pyplot as plt\n",
    "import cartopy.crs as ccrs"
   ]
  },
  {
   "cell_type": "code",
   "execution_count": null,
   "metadata": {},
   "outputs": [],
   "source": [
    "# reading in regions and setting nodata values\n",
    "\n",
    "# koga = rxr.open_rasterio('../data_input/KoeppenGeiger3_KG3_CRUTS32_Hist_7100.tif', mask_and_scale=False)\n",
    "koga = rxr.open_rasterio(\n",
    "    '../data_input/VU-VIENA/KG_1986-2010.grd', mask_and_scale=False)\n",
    "koga.rio.write_nodata(32, inplace=True)\n",
    "koga = koga.where(koga != koga.rio.nodata)\n",
    "koga.rio.write_nodata(32, encoded=True, inplace=True)\n",
    "koga = koga.rio.reproject(\"EPSG:4326\")\n",
    "print(koga.rio.crs)\n",
    "# print(f\"nodata: {koga.rio.nodata}\")\n",
    "# print(f\"encoded_nodata: {koga.rio.encoded_nodata}\")\n"
   ]
  },
  {
   "cell_type": "code",
   "execution_count": null,
   "metadata": {},
   "outputs": [],
   "source": [
    "\n",
    "# Plot regions to check all looks good.\n",
    "\n",
    "# Color list and labels (including oceans as layer 32)\n",
    "koga_cols = np.array([\"#960000\", \"#FF0000\", \"#FF6E6E\", \"#FFCCCC\", \"#CC8D14\", \"#CCAA54\", \"#FFCC00\", \"#FFFF64\", \"#007800\", \"#005000\",\n",
    "          \"#003200\", \"#96FF00\", \"#00D700\", \"#00AA00\", \"#BEBE00\", \"#8C8C00\", \"#5A5A00\", \"#550055\", \"#820082\", \"#C800C8\",\n",
    "          \"#FF6EFF\", \"#646464\", \"#8C8C8C\", \"#BEBEBE\", \"#E6E6E6\", \"#6E28B4\", \"#B464FA\", \"#C89BFA\", \"#C8C8FF\", \"#6496FF\",\n",
    "          \"#64FFFF\", \"#F5FFFF\"])\n",
    "koga_labels = np.array(['Af', 'Am', 'As', 'Aw', 'BSh', 'BSk', 'BWh', 'BWk', 'Cfa', 'Cfb',\n",
    "            'Cfc', 'Csa', 'Csb', 'Csc', 'Cwa', 'Cwb', 'Cwc', 'Dfa', 'Dfb', 'Dfc',\n",
    "            'Dfd', 'Dsa', 'Dsb', 'Dsc', 'Dsd', 'Dwa', 'Dwb', 'Dwc', 'Dwd', 'EF',\n",
    "            'ET', 'Ocean'])\n",
    "# If setting ocean layer 32 as missing, do:\n",
    "koga_cols = koga_cols[0:-1]\n",
    "koga_labels = koga_labels[0:-1]\n",
    "\n",
    "regind = np.unique(koga.data[~np.isnan(koga.data)]).astype(int)\n"
   ]
  },
  {
   "cell_type": "code",
   "execution_count": null,
   "metadata": {},
   "outputs": [],
   "source": [
    "# Plotting function: map plot of flux trends in the northern hemisphere\n",
    "\n",
    "def plot_global(rast, cols, ticks, labels):\n",
    "    cmap = ListedColormap(koga_cols)\n",
    "    fig = plt.figure(figsize=[17, 6])\n",
    "    ax = fig.add_subplot(\n",
    "        111,\n",
    "        projection=ccrs.PlateCarree(  # projection=ccrs.Orthographic(0, 90)\n",
    "            central_longitude=0.0,),\n",
    "        facecolor=\"white\"\n",
    "    )\n",
    "    p = rast.plot(\n",
    "        ax=ax,\n",
    "        transform=ccrs.PlateCarree(),\n",
    "        cmap=cmap,\n",
    "        add_colorbar=False\n",
    "    )\n",
    "    # ax.set_global()\n",
    "    ax.coastlines()\n",
    "    ax.set_title('Koeppen-Geiger Regions')\n",
    "    cbar = fig.colorbar(p, label=None, ticks=ticks)\n",
    "    cbar = cbar.ax.set_yticklabels(labels)\n"
   ]
  },
  {
   "cell_type": "code",
   "execution_count": null,
   "metadata": {},
   "outputs": [],
   "source": [
    "\n",
    "plot_global(koga, koga_cols, regind, koga_labels)"
   ]
  },
  {
   "cell_type": "markdown",
   "metadata": {},
   "source": [
    "## Regional analysis"
   ]
  },
  {
   "cell_type": "code",
   "execution_count": null,
   "metadata": {},
   "outputs": [],
   "source": [
    "# read in files: co2 data and continent vector file\n",
    "conts = gpd.read_file('../data_input/continents.geojson')\n",
    "co2fluxamp = rxr.open_rasterio('../data_output/co2invSeasAmp_s99.nc')\n",
    "\n",
    "\n",
    "# Create a template dataframe to save results\n",
    "regind = np.unique(koga.data[~np.isnan(koga.data)]).astype(int)\n",
    "df_regions = pd.DataFrame({'regind': regind, 'regname': koga_labels,\n",
    "                          'regcolor': koga_cols, 'area': np.nan, 'co2amp_var': np.nan})\n",
    "# Create a dictionary to hold dataframes for each continent\n",
    "conts_dict = dict()\n",
    "\n",
    "# Create area grid for co2fluxamp grid cells\n",
    "latcos = np.cos(np.deg2rad(co2fluxamp.y))\n",
    "latcos.name = \"weights\"\n",
    "area = co2fluxamp[1].squeeze()\n",
    "# Aproximate grid area at Equator\n",
    "area = area.where(area.isnull(), other=(2 * 111) * (2.5 * 111))\n"
   ]
  },
  {
   "cell_type": "code",
   "execution_count": null,
   "metadata": {},
   "outputs": [],
   "source": [
    "# Function to analyse for a chosen continent\n",
    "\n",
    "def reg_analysis(cont_name):\n",
    "    # cont_name is the continent name string as found in the conts geopandas object\n",
    "    cont = conts[conts['CONTINENT'] == cont_name]\n",
    "    koga_sel = koga.rio.clip(cont.geometry, cont.crs, all_touched=True)\n",
    "    koga_sel = koga_sel.squeeze()  # Get rid of the 'band' dimension\n",
    "    del koga_sel['band']\n",
    "    koga_sel = koga_sel.rio.reproject_match(co2fluxamp)\n",
    "    \n",
    "    # Make copy of DF to store results\n",
    "    df_results = df_regions.copy()\n",
    "\n",
    "    # Create list of region indices\n",
    "    region_index = np.unique(koga_sel.data[~np.isnan(koga_sel.data)]).astype(int)\n",
    "\n",
    "    plot_global(koga_sel, koga_cols[region_index-1], region_index, koga_labels[region_index-1])\n",
    "    # plot_global(koga_sel, np.array(koga_cols)[region_index-1], region_index, np.array(koga_labels)[region_index-1])\n",
    "\n",
    "\n",
    "    # Loop over region indices and calculate statistics of CO2 fluxes\n",
    "    for i in range(len(region_index)):  # [15]: #\n",
    "        roi = region_index[i]\n",
    "        reg_co2amp = co2fluxamp.where(koga_sel == roi)\n",
    "        reg_area = area.where(koga_sel == roi).weighted(latcos)\n",
    "        totarea = reg_area.sum().data\n",
    "        mean_var = reg_co2amp.var(dim='year').mean().data\n",
    "        df_results.loc[df_results['regind'] ==\n",
    "                       roi, 'ampvar'] = np.round(mean_var, 3)\n",
    "        df_results.loc[df_results['regind'] == roi, 'area'] = np.round(totarea)\n",
    "\n",
    "        # fig, ax = pyplot.subplots()\n",
    "        # regfamp[1].plot(ax = ax)#, color = koga_cols[int(roi)-1])\n",
    "        # conts.plot(ax = ax, facecolor=\"none\", edgecolor=\"black\")\n",
    "\n",
    "    df_results['area_ampvar'] = np.round(\n",
    "        df_results['area'] * df_results['ampvar'])\n",
    "    df_results = df_results.sort_values('area_ampvar', ascending=False)\n",
    "    df_results['area_ampvar_sum'] = df_results['area_ampvar'].cumsum()\n",
    "    amparea_sum = df_results['area_ampvar'].sum()\n",
    "\n",
    "    print('Total amparea sum = : ', amparea_sum, '\\n')\n",
    "    print('80% of amparea sum = : ', amparea_sum * 0.8, '\\n')\n",
    "\n",
    "    # Explore data\n",
    "    df_results.sort_values('area', ascending=False).plot.bar('regname', 'area')\n",
    "    df_results.sort_values('ampvar', ascending=False).plot.bar(\n",
    "        'regname', 'ampvar')\n",
    "    df_results.sort_values('area_ampvar', ascending=False).plot.bar(\n",
    "        'regname', 'area_ampvar')\n",
    "\n",
    "    return (df_results)\n"
   ]
  },
  {
   "cell_type": "markdown",
   "metadata": {},
   "source": [
    "### Analysis for each NH continent"
   ]
  },
  {
   "cell_type": "code",
   "execution_count": null,
   "metadata": {},
   "outputs": [],
   "source": [
    "df_co2_as = reg_analysis(\"Asia\")"
   ]
  },
  {
   "cell_type": "code",
   "execution_count": null,
   "metadata": {},
   "outputs": [],
   "source": [
    "df_co2_eu = reg_analysis(\"Europe\")"
   ]
  },
  {
   "cell_type": "code",
   "execution_count": null,
   "metadata": {},
   "outputs": [],
   "source": [
    "# Calculating total area\n",
    "\n",
    "2633051.0"
   ]
  }
 ],
 "metadata": {
  "kernelspec": {
   "display_name": "Python 3.9.13 ('landcover')",
   "language": "python",
   "name": "python3"
  },
  "language_info": {
   "codemirror_mode": {
    "name": "ipython",
    "version": 3
   },
   "file_extension": ".py",
   "mimetype": "text/x-python",
   "name": "python",
   "nbconvert_exporter": "python",
   "pygments_lexer": "ipython3",
   "version": "3.9.13"
  },
  "orig_nbformat": 4,
  "vscode": {
   "interpreter": {
    "hash": "e9c0ace6525dc9bd2cdb9ec438dcef471f1778d0487c57e0c503f5b8fe081a27"
   }
  }
 },
 "nbformat": 4,
 "nbformat_minor": 2
}
