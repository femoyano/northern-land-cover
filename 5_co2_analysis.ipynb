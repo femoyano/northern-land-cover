{
 "cells": [
  {
   "cell_type": "code",
   "execution_count": null,
   "metadata": {},
   "outputs": [],
   "source": [
    "# Plotting ----\n",
    "\n",
    "# Get all required packages\n",
    "\n",
    "#%%\n",
    "%load_ext autoreload\n",
    "%autoreload 2\n",
    "\n",
    "# Packages\n",
    "import os\n",
    "import rioxarray as rio\n",
    "import pandas as pd\n",
    "import geopandas as gpd\n",
    "\n",
    "# Local modules\n",
    "from mod_ra1_plots import *"
   ]
  },
  {
   "cell_type": "code",
   "execution_count": null,
   "metadata": {},
   "outputs": [],
   "source": [
    "# Option\n",
    "\n",
    "do_plot_stats = True"
   ]
  },
  {
   "cell_type": "code",
   "execution_count": null,
   "metadata": {},
   "outputs": [],
   "source": [
    "# Directories\n",
    "input_dir = '../data_input/'\n",
    "output_dir = '../data_output/'\n",
    "\n",
    "inversions = ['s76', 's81', 's85', 's93', 's99', 's06', 's10']\n",
    "\n",
    "# Choose the list of inversion data version to analyse. Later (shorter) time series are driven by data from more stations.\n",
    "inv_startyear = {'s76':1976, 's81':1981, 's85':1985, 's93': 1993, 's99':1999, 's06':2006, 's10':2010}  # Inversionversion and starting year\n",
    "# inv_startyear = {'s99':1999}  # Inversion starting year. Options: s85, s99, s06, s10\n",
    "\n",
    "# Number of stations of each inversion version\n",
    "inv_nstations = {'s76':9, 's81':14, 's85':21, 's93':35, 's99':49, 's06':59, 's10':78}\n",
    "\n",
    "# List of strating years to define analysis periods\n",
    "periods = [(1976,2021), (1981,2021), (1985,2021), (1993,2021), (1999,2021), (2006,2021), (2010,2021)]\n",
    "# periods = [(1999,2021)]"
   ]
  },
  {
   "cell_type": "code",
   "execution_count": null,
   "metadata": {},
   "outputs": [],
   "source": [
    "if do_plot_stats:\n",
    "    \n",
    "    for inv in inv_startyear:\n",
    "\n",
    "        inv_start = inv_startyear[inv]\n",
    "\n",
    "        for period in periods:\n",
    "\n",
    "            print('inv_start: ', inv_start)\n",
    "            print('period: ', period)\n",
    "        \n",
    "            if(inv_start > period[0]):\n",
    "                print('Continuing ...')\n",
    "                continue\n",
    "\n",
    "            print('Reading data: ', inv, ', period: ', period)\n",
    "\n",
    "            ident = str(period[0])+'-'+str(period[1])+'_Inv'+str(inv_start)\n",
    "            file_in_stats = os.path.join(output_dir, 'co2fluxAmpStats_'+ident+'.nc')\n",
    "            co2fluxAmpStats = rio.open_rasterio(file_in_stats)\n",
    "\n",
    "            # Map plot of flux trends\n",
    "            plotLambert(xr_val=co2fluxAmpStats.slope, ident=ident)\n",
    "\n",
    "            # Plot slope with significance filter = 0.1\n",
    "            # plotOrthoSig(xr_val=co2fluxAmpStats.slope, ident=ident, p_lim=0.1, xr_pval=co2fluxAmpStats.p_value, vmin=-0.08, vmax=0.08)\n",
    "\n",
    "            # Plot slope without significance filter\n",
    "            plotOrthoSig(xr_val=co2fluxAmpStats.slope, ident=ident, p_lim=1, xr_pval=co2fluxAmpStats.p_value, vmin=-0.08, vmax=0.08)\n",
    "\n",
    "            # Plot variance without significance filter\n",
    "            plotOrthoSig(xr_val=co2fluxAmpStats.variance, ident=ident, p_lim=1, xr_pval=co2fluxAmpStats.p_value, vmin=0, vmax=0.2, cmap='Oranges')\n",
    "\n",
    "            "
   ]
  },
  {
   "cell_type": "markdown",
   "metadata": {},
   "source": [
    "### Regional Analysis\n",
    "\n",
    "Specific regions that coincide with NEE-amp trend or variance hotspots are selected for analysis.\n",
    "A mask for selection is created by:\n",
    "\n",
    "1. Clipping the data to the respective continent\n",
    "2. Selecting the KG climate region that overlaps with the hotspot\n"
   ]
  },
  {
   "cell_type": "code",
   "execution_count": 89,
   "metadata": {},
   "outputs": [],
   "source": [
    "# Regional Analysis\n",
    "import shapely as sh\n",
    "\n",
    "# Setup regions\n",
    "kopp = rio.open_rasterio('../data_input/VU-VIENA/KG_1986-2010.grd', mask_and_scale=False)\n",
    "kopp.rio.write_nodata(32, inplace=True)\n",
    "kopp = kopp.where(kopp != kopp.rio.nodata)\n",
    "kopp = kopp.rio.reproject(\"EPSG:4326\")\n",
    "\n",
    "conts = gpd.read_file('../data_input/continents.geojson')\n",
    "cont_bounds = {'Asia': [24,0,190,81], 'Europe': [-31, 35, 69, 81], 'North America': [-178, 0, -15, 84]}\n",
    "cont_name = 'Europe'\n",
    "cont = conts[conts['CONTINENT'] == cont_name]\n",
    "kopp_sel = kopp.rio.clip(cont.geometry, cont.crs, all_touched=True).squeeze()  # Get rid of the 'band' dimension\n",
    "\n",
    "# Manual geometries\n",
    "geom_lat10_30 = sh.geometry.box(-179, 10, 179, 30)\n",
    "geom_lat30_50 = sh.geometry.box(-179, 30, 179, 50)\n",
    "geom_lat50_70 = sh.geometry.box(-179, 50, 179, 70)\n",
    "geom_lat70_90 = sh.geometry.box(-179, 70, 179, 90)\n",
    "geom_eastasia_tempwarm = sh.geometry.box(100, 20, 125, 35)\n",
    "geom_eastasia_tempcold = sh.geometry.box(115, 35, 135, 50)\n",
    "geom_eastasia = sh.geometry.box(90, 0, 179, 90)\n",
    "geom_europe_temp = sh.geometry.box(-10, 40, 40, 55)\n",
    "geom_northamer_tempcold = sh.geometry.box(-130, 40. -50, 60)"
   ]
  },
  {
   "cell_type": "code",
   "execution_count": null,
   "metadata": {},
   "outputs": [],
   "source": []
  },
  {
   "cell_type": "code",
   "execution_count": null,
   "metadata": {},
   "outputs": [],
   "source": [
    "\n",
    "\n",
    "# Create a template dataframe to save results\n",
    "# regind = np.unique(kopp.data[~np.isnan(kopp.data)]).astype(int)\n",
    "# df_regions = pd.DataFrame({'regind': regind, 'regname': kopp_labels,\n",
    "#                           'regcolor': kopp_cols, 'area': np.nan, 'co2amp_var': np.nan})\n",
    "\n",
    "for inv in inv_startyear:\n",
    "\n",
    "    inv_start = inv_startyear[inv]\n",
    "\n",
    "    file_in_amp = os.path.join(output_dir, 'co2fluxAmp_Inv'+str(inv_start)+'.nc')\n",
    "    co2fluxAmp = rio.open_rasterio(file_in_amp)\n",
    "\n",
    "    # Select the roi\n",
    "    \n",
    "\n",
    "    # Plotting of seasonal amplitude time series\n",
    "    # plotLatMeans(xr_val=co2fluxAmp, lats=([30, 50], [50, 70], [70, 90]), ident='Inv'+str(inv_start))\n",
    "\n",
    "    regDiffMean = xr_val.where(xr_val.y > lat[0]).where(xr_val.y < lat[1]).mean(['x','y'])\n",
    "\n",
    "\n",
    "    if inv_start == inv_startyear[0]:\n",
    "        \n",
    "        reg_ts = pd.DataFrame(co2fluxAmp)\n"
   ]
  }
 ],
 "metadata": {
  "kernelspec": {
   "display_name": "Python 3.9.15 ('landcover')",
   "language": "python",
   "name": "python3"
  },
  "language_info": {
   "codemirror_mode": {
    "name": "ipython",
    "version": 3
   },
   "file_extension": ".py",
   "mimetype": "text/x-python",
   "name": "python",
   "nbconvert_exporter": "python",
   "pygments_lexer": "ipython3",
   "version": "3.9.15"
  },
  "orig_nbformat": 4,
  "vscode": {
   "interpreter": {
    "hash": "e9c0ace6525dc9bd2cdb9ec438dcef471f1778d0487c57e0c503f5b8fe081a27"
   }
  }
 },
 "nbformat": 4,
 "nbformat_minor": 2
}
