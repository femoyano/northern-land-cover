{
 "cells": [
  {
   "cell_type": "code",
   "execution_count": null,
   "metadata": {},
   "outputs": [],
   "source": [
    "# Plotting ----\n",
    "\n",
    "# Get all required packages\n",
    "\n",
    "#%%\n",
    "%load_ext autoreload\n",
    "%autoreload 2\n",
    "\n",
    "# Packages\n",
    "import os\n",
    "import rioxarray as rio\n",
    "import pandas as pd\n",
    "import geopandas as gpd\n",
    "\n",
    "# Local modules\n",
    "from mod_ra1_plots import *"
   ]
  },
  {
   "cell_type": "code",
   "execution_count": null,
   "metadata": {},
   "outputs": [],
   "source": [
    "# Option\n",
    "\n",
    "do_figs = False"
   ]
  },
  {
   "cell_type": "code",
   "execution_count": null,
   "metadata": {},
   "outputs": [],
   "source": [
    "# Directories\n",
    "input_dir = '../data_input/'\n",
    "output_dir = '../data_output/'\n",
    "\n",
    "# Choose the list of inversion data version to analyse. Later (shorter) time series are driven by data from more stations.\n",
    "inversions = {'s76':1976, 's81':1981, 's85':1985, 's99':1999, 's06':2006, 's10':2010}  # Inversionversion and starting year\n",
    "# inversions = {'s99':1999}  # Inversion starting year. Options: s85, s99, s06, s10\n",
    "\n",
    "# Number of stations of each inversion version\n",
    "inv_nstation = {'s76':1976, 's81':1981, 's85':1985, 's99':1999, 's06':2006, 's10':2010}\n",
    "\n",
    "# List of strating years to define analysis periods\n",
    "periods = [(1976,2021), (1981,2021), (1985,2021), (1999,2021), (2006,2021), (2010,2021)]\n",
    "# periods = [(1999,2021)]"
   ]
  },
  {
   "cell_type": "code",
   "execution_count": null,
   "metadata": {},
   "outputs": [],
   "source": [
    "if do_figs:\n",
    "    \n",
    "    for inv in inversions:\n",
    "\n",
    "        inv_start = inversions[inv]\n",
    "\n",
    "        file_in_amp = os.path.join(output_dir, 'co2fluxAmp_Inv'+str(inv_start)+'.nc')\n",
    "        co2fluxAmp = rio.open_rasterio(file_in_amp)\n",
    "\n",
    "        # Plot the first band of co2 flux rates\n",
    "        # plotOrthographic(xr_val=co2fluxAmp.isel(year=0), ident=inv)\n",
    "\n",
    "        # Plotting of seasonal amplitude time series\n",
    "        plotLatMeans(xr_val=co2fluxAmp, lats=([30, 50], [50, 70], [70, 90]), ident='Inv'+str(inv_start))\n",
    "\n",
    "        for period in periods:\n",
    "\n",
    "            print('inv_start: ', inv_start)\n",
    "            print('period: ', period)\n",
    "        \n",
    "            if(inv_start > period[0]):\n",
    "                print('Continuing ...')\n",
    "                continue\n",
    "\n",
    "            print('Reading data: ', inv, ', period: ', period)\n",
    "\n",
    "            ident = str(period[0])+'-'+str(period[1])+'_Inv'+str(inv_start)\n",
    "            file_in_stats = os.path.join(output_dir, 'co2fluxAmpStats_'+ident+'.nc')\n",
    "            co2fluxAmpStats = rio.open_rasterio(file_in_stats)\n",
    "\n",
    "            # Map plot of flux trends in the northern hemisphere\n",
    "            plotLambert(xarray=co2fluxAmpStats.slope, ident=ident)\n",
    "\n",
    "            # Plot values with significance filter\n",
    "            plotOrthoSig(xr_val=co2fluxAmpStats.slope, xr_pval=co2fluxAmpStats.p_value, p_lim=0.1, ident=ident)\n",
    "\n",
    "            # Plot values without significance filter\n",
    "            plotOrthoSig(xr_val=co2fluxAmpStats.slope, xr_pval=co2fluxAmpStats.p_value, p_lim=1, ident=ident)"
   ]
  },
  {
   "cell_type": "code",
   "execution_count": null,
   "metadata": {},
   "outputs": [],
   "source": [
    "# Regional time series\n",
    "\n",
    "# Choose a region (can latter loop through regions)\n",
    "kopp = rio.open_rasterio('../data_input/VU-VIENA/KG_1986-2010.grd', mask_and_scale=False)\n",
    "kopp.rio.write_nodata(32, inplace=True)\n",
    "kopp = kopp.where(kopp != kopp.rio.nodata)\n",
    "kopp = kopp.rio.reproject(\"EPSG:4326\")\n",
    "\n",
    "conts = gpd.read_file('../data_input/continents.geojson')\n",
    "\n",
    "\n",
    "# Create a template dataframe to save results\n",
    "regind = np.unique(kopp.data[~np.isnan(kopp.data)]).astype(int)\n",
    "df_regions = pd.DataFrame({'regind': regind, 'regname': kopp_labels,\n",
    "                          'regcolor': kopp_cols, 'area': np.nan, 'co2amp_var': np.nan})\n",
    "\n",
    "for inv in inversions:\n",
    "    \n",
    "    inv_start = inversions[inv]\n",
    "\n",
    "    file_in_amp = os.path.join(output_dir, 'co2fluxAmp_Inv'+str(inv_start)+'.nc')\n",
    "    co2fluxAmp = rio.open_rasterio(file_in_amp)\n",
    "\n",
    "    regDiffMean = xr_val.where(xr_val.y > lat[0]).where(xr_val.y < lat[1]).mean(['x','y'])\n",
    "\n",
    "\n",
    "    if inv_start == inversions[0]:\n",
    "        \n",
    "        reg_ts = pd.DataFrame(co2fluxAmp)\n"
   ]
  }
 ],
 "metadata": {
  "kernelspec": {
   "display_name": "Python 3.9.15 ('landcover')",
   "language": "python",
   "name": "python3"
  },
  "language_info": {
   "codemirror_mode": {
    "name": "ipython",
    "version": 3
   },
   "file_extension": ".py",
   "mimetype": "text/x-python",
   "name": "python",
   "nbconvert_exporter": "python",
   "pygments_lexer": "ipython3",
   "version": "3.9.15"
  },
  "orig_nbformat": 4,
  "vscode": {
   "interpreter": {
    "hash": "e9c0ace6525dc9bd2cdb9ec438dcef471f1778d0487c57e0c503f5b8fe081a27"
   }
  }
 },
 "nbformat": 4,
 "nbformat_minor": 2
}
