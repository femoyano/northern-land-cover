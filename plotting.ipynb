{
 "cells": [
  {
   "cell_type": "code",
   "execution_count": 1,
   "metadata": {},
   "outputs": [],
   "source": [
    "# Plotting ----\n",
    "\n",
    "# Get all required packages\n",
    "\n",
    "#%%\n",
    "%load_ext autoreload\n",
    "%autoreload 2\n",
    "\n",
    "# Packages\n",
    "import os\n",
    "\n",
    "# Local modules\n",
    "from mod_ra1_plots import *"
   ]
  },
  {
   "cell_type": "code",
   "execution_count": null,
   "metadata": {},
   "outputs": [],
   "source": [
    "# Directories\n",
    "input_dir = '../data_input/'\n",
    "output_dir = '../data_output/'\n",
    "\n",
    "# Choose the list of inversion data version to analyse. Later (shorter) time series are driven by data from more stations.\n",
    "inversions = {'s81':1981, 's85':1985, 's99':1999, 's06':2006, 's10':2010}  # Inversion starting year. Options: s85, s99, s06, s10\n",
    "# inversions = {'s76':1976, 's81':1981}  # Inversion starting year. Options: s85, s99, s06, s10\n",
    "\n",
    "# List of strating years to define analysis periods\n",
    "periods = [(1976,2021), (1981,2021), (1985,2021), (1999,2021), (2006,2021), (2010,2021)]\n",
    "# periods = [(2006,2021), (2010,2021)]"
   ]
  },
  {
   "cell_type": "code",
   "execution_count": null,
   "metadata": {},
   "outputs": [],
   "source": [
    "for inv in inversions:\n",
    "\n",
    "    inv_start = inversions[inv]\n",
    "\n",
    "    for period in periods:\n",
    "\n",
    "        print('inv_start: ', inv_start)\n",
    "        print('period: ', period)\n",
    "    \n",
    "        if(inv_start > period[0]):\n",
    "            print('Continuing ...')\n",
    "            continue\n",
    "\n",
    "        print('Reading data: ', inv, ', period: ', period)\n",
    "\n",
    "        ident = inv + '_' + str(period[0])+'-'+str(period[1])\n",
    "\n",
    "        file_in_amp = os.path.join(output_dir, 'co2fluxAmp_'+ident+'.nc')\n",
    "        file_in_stats = os.path.join(output_dir, 'co2fluxAmpStats_'+ident+'.nc')"
   ]
  },
  {
   "cell_type": "code",
   "execution_count": null,
   "metadata": {},
   "outputs": [],
   "source": [
    "# Plot the first band of co2 flux rates\n",
    "plotOrthographic(co2fluxProc=co2fluxProc)\n",
    "\n",
    "# Plotting of seasonal amplitude time series\n",
    "plotRegMeans(co2fluxAmp=co2fluxAmp, lats=([30, 50], [50, 90]))\n",
    "\n",
    "# Map plot of flux trends in the northern hemisphere\n",
    "plotLambert(co2fluxAmpStats.slope)\n",
    "\n",
    "# Plot values with significance filter\n",
    "plotOrthoSig(co2fluxAmpStats.slope, co2fluxAmpStats.p_value)"
   ]
  }
 ],
 "metadata": {
  "kernelspec": {
   "display_name": "Python 3.9.15 ('landcover')",
   "language": "python",
   "name": "python3"
  },
  "language_info": {
   "codemirror_mode": {
    "name": "ipython",
    "version": 3
   },
   "file_extension": ".py",
   "mimetype": "text/x-python",
   "name": "python",
   "nbconvert_exporter": "python",
   "pygments_lexer": "ipython3",
   "version": "3.9.15"
  },
  "orig_nbformat": 4,
  "vscode": {
   "interpreter": {
    "hash": "e9c0ace6525dc9bd2cdb9ec438dcef471f1778d0487c57e0c503f5b8fe081a27"
   }
  }
 },
 "nbformat": 4,
 "nbformat_minor": 2
}
