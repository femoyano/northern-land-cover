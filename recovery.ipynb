{
 "cells": [
  {
   "cell_type": "code",
   "execution_count": 1,
   "id": "4b0171b9-f501-467e-8ef2-26ad7ee2a54f",
   "metadata": {
    "tags": []
   },
   "outputs": [],
   "source": [
    "import ee\n",
    "import rioxarray as rio\n",
    "import xarray as xr\n",
    "from osgeo import gdal\n",
    "from pyproj import CRS\n",
    "import geemap as gm"
   ]
  },
  {
   "cell_type": "code",
   "execution_count": null,
   "id": "eb4e5cc9",
   "metadata": {},
   "outputs": [],
   "source": [
    "\n",
    "# ee.Authenticate()"
   ]
  },
  {
   "cell_type": "code",
   "execution_count": 3,
   "id": "a03756fb-5370-404f-8d78-5aef30d85b08",
   "metadata": {},
   "outputs": [],
   "source": [
    "ee.Initialize()"
   ]
  },
  {
   "cell_type": "code",
   "execution_count": 4,
   "id": "ab1c16d7",
   "metadata": {},
   "outputs": [
    {
     "name": "stdout",
     "output_type": "stream",
     "text": [
      "{'title': 'Jena CarboScope results', 'history': 'Inversion code by Christian Roedenbeck', 'institution': 'MPI Biogeochemistry Jena', 'references': 'http://www.BGC-Jena.mpg.de/CarboScope/', 'Conventions': 'CF-1.1', 'species': 'co2', 'yrfi': 1951, 'yrfe': 2022, 'valid_period': '1985-2021 (inclusive)', 'yrfi_valid': 1985, 'yrfe_valid': 2021, 'yrvi': 1985, 'yrve': 2021, 'normalization_period': '1985-2021 (inclusive)', 'yrni': 1985, 'yrne': 2021, 'dirname': 'OUTPUT14.005r8t+tm3_ncep_fg.1951-2022_2Hx2.co2.-S-.s85v2022.ATMv2022_RESIDneeMSC57_RESIDoc.nsigma2', 'filename': 'mu1.0_070_flux_asis+YRVI-YRVE.nc', 'c0': 310.052}\n"
     ]
    }
   ],
   "source": [
    "# Open data with Gdal and get the CRS information\n",
    "file_path = '/Users/moyanofe/BigData/GeoSpatial/Carboscope/Inversions/s85oc_v2022_daily.nc' \n",
    "# Open data with xarray\n",
    "ds = xr.open_dataset(file_path)\n",
    "\n",
    "# Locate CRS info in the file manually\n",
    "cc = ds.attrs\n",
    "\n",
    "print(cc)\n"
   ]
  },
  {
   "cell_type": "code",
   "execution_count": null,
   "id": "9e22f5ee-fe37-470c-bb8c-e3ad17f6689c",
   "metadata": {},
   "outputs": [],
   "source": []
  }
 ],
 "metadata": {
  "kernelspec": {
   "display_name": "Python 3.9.13 ('landcover')",
   "language": "python",
   "name": "python3"
  },
  "language_info": {
   "codemirror_mode": {
    "name": "ipython",
    "version": 3
   },
   "file_extension": ".py",
   "mimetype": "text/x-python",
   "name": "python",
   "nbconvert_exporter": "python",
   "pygments_lexer": "ipython3",
   "version": "3.9.13"
  },
  "vscode": {
   "interpreter": {
    "hash": "e9c0ace6525dc9bd2cdb9ec438dcef471f1778d0487c57e0c503f5b8fe081a27"
   }
  }
 },
 "nbformat": 4,
 "nbformat_minor": 5
}
