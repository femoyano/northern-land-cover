{
 "cells": [
  {
   "cell_type": "code",
   "execution_count": null,
   "metadata": {},
   "outputs": [],
   "source": [
    "# packages \n",
    "from curses.ascii import LF\n",
    "import xarray as xr \n",
    "import rioxarray as rio\n",
    "import cartopy.crs as ccrs\n",
    "\n",
    "\n",
    "# Open data with Gdal and get the CRS information\n",
    "file_path = '/Users/moyanofe/BigData/GeoSpatial/Carboscope/Inversions/s85oc_v2022_daily.nc' \n",
    "# Open data with xarray\n",
    "nc = xr.open_dataset(file_path)\n",
    "print(nc)\n",
    "\n",
    "co2 = nc['co2flux_land'] # extract the co2flux_land variable\n",
    "co2\n",
    "\n",
    "co2.rio.set_spatial_dims(x_dim='lon', y_dim='lat', inplace=True)\n",
    "co2 = co2.reindex(lat=co2.lat[::-1])\n",
    "\n",
    "print(co2.rio.crs) # check if there is already a crs defined\n",
    "co2.rio.write_crs(\"epsg:4326\", inplace=True) # Add a crs if not. Global data mostly in WGS84=epsg4326\n",
    "print(co2.rio.crs)\n",
    "co2.rio.to_raster(r\"/Users/moyanofe/BigData/GeoSpatial/Carboscope/Inversions/s85oc_v2022_daily.tiff\")\n",
    "\n",
    "\n",
    "# p = co2.isel(mtime=0).plot(\n",
    "#     subplot_kws=dict(projection=ccrs.Orthographic(-80, 35), facecolor=\"gray\"),\n",
    "#     transform=ccrs.PlateCarree(),\n",
    "# )\n",
    "# p.axes.set_global()\n",
    "# p.axes.coastlines()\n",
    "\n"
   ]
  },
  {
   "cell_type": "code",
   "execution_count": null,
   "metadata": {},
   "outputs": [],
   "source": [
    "import rasterio\n",
    "import rasterio.plot\n",
    "\n",
    "file_path = '/Users/moyanofe/BigData/GeoSpatial/Carboscope/Inversions/s85oc_v2022_daily.tiff'\n",
    "co2 = rasterio.open(file_path)"
   ]
  },
  {
   "cell_type": "code",
   "execution_count": null,
   "metadata": {},
   "outputs": [],
   "source": [
    "\n",
    "rasterio.plot.show(co2, title = \"co2_land\")"
   ]
  }
 ],
 "metadata": {
  "kernelspec": {
   "display_name": "Python 3.9.13 ('landcover')",
   "language": "python",
   "name": "python3"
  },
  "language_info": {
   "codemirror_mode": {
    "name": "ipython",
    "version": 3
   },
   "file_extension": ".py",
   "mimetype": "text/x-python",
   "name": "python",
   "nbconvert_exporter": "python",
   "pygments_lexer": "ipython3",
   "version": "3.9.13"
  },
  "orig_nbformat": 4,
  "vscode": {
   "interpreter": {
    "hash": "e9c0ace6525dc9bd2cdb9ec438dcef471f1778d0487c57e0c503f5b8fe081a27"
   }
  }
 },
 "nbformat": 4,
 "nbformat_minor": 2
}
