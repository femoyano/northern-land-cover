{
 "cells": [
  {
   "cell_type": "code",
   "execution_count": 10,
   "metadata": {},
   "outputs": [
    {
     "name": "stdout",
     "output_type": "stream",
     "text": [
      "<xarray.Dataset>\n",
      "Dimensions:        (lon: 144, nv: 2, lat: 90, itime: 26298, proc: 6, rt: 3,\n",
      "                    spec: 1, mtime: 13514, mtime0: 100)\n",
      "Coordinates:\n",
      "  * lon            (lon) float32 -178.8 -176.2 -173.8 ... 173.8 176.2 178.8\n",
      "  * lat            (lat) float32 -89.0 -87.0 -85.0 -83.0 ... 83.0 85.0 87.0 89.0\n",
      "  * itime          (itime) datetime64[ns] 1951-01-01 1951-01-02 ... 2022-12-31\n",
      "  * proc           (proc) int32 1 2 3 4 5 6\n",
      "  * rt             (rt) int32 1 2 3\n",
      "  * spec           (spec) int32 1\n",
      "  * mtime          (mtime) datetime64[ns] 1985-01-01T11:59:59 ... 2021-12-31T...\n",
      "Dimensions without coordinates: nv, mtime0\n",
      "Data variables: (12/22)\n",
      "    lon_bounds     (lon, nv) float32 ...\n",
      "    lat_bounds     (lat, nv) float32 ...\n",
      "    itime_bounds   (itime, nv) datetime64[ns] ...\n",
      "    dt             (itime) timedelta64[ns] ...\n",
      "    year           (itime) float64 ...\n",
      "    lproc          (proc) |S20 ...\n",
      "    ...             ...\n",
      "    myear2         (mtime) float64 ...\n",
      "    tmask          (mtime0, itime) float32 ...\n",
      "    co2flux_land   (mtime, lat, lon) float32 ...\n",
      "    co2flux_ocean  (mtime, lat, lon) float32 ...\n",
      "    co2flux_subt   (mtime, lat, lon) float32 ...\n",
      "    co2flux_excl   (mtime, lat, lon) float32 ...\n",
      "Attributes: (12/19)\n",
      "    title:                 Jena CarboScope results\n",
      "    history:               Inversion code by Christian Roedenbeck\n",
      "    institution:           MPI Biogeochemistry Jena\n",
      "    references:            http://www.BGC-Jena.mpg.de/CarboScope/\n",
      "    Conventions:           CF-1.1\n",
      "    species:               co2\n",
      "    ...                    ...\n",
      "    normalization_period:  1985-2021 (inclusive)\n",
      "    yrni:                  1985\n",
      "    yrne:                  2021\n",
      "    dirname:               OUTPUT14.005r8t+tm3_ncep_fg.1951-2022_2Hx2.co2.-S-...\n",
      "    filename:              mu1.0_070_flux_asis+YRVI-YRVE.nc\n",
      "    c0:                    310.052\n"
     ]
    }
   ],
   "source": [
    "# packages \n",
    "from curses.ascii import LF\n",
    "import xarray as xr \n",
    "import rioxarray as rio\n",
    "import cartopy.crs as ccrs\n",
    "\n",
    "\n",
    "# Open data with Gdal and get the CRS information\n",
    "file_path = '/Users/moyanofe/BigData/GeoSpatial/Carboscope/Inversions/s85oc_v2022_daily.nc' \n",
    "# Open data with xarray\n",
    "nc = xr.open_dataset(file_path)\n",
    "print(nc)\n",
    "\n",
    "co2 = nc['co2flux_land'] # extract the co2flux_land variable\n",
    "co2\n",
    "\n",
    "co2.rio.set_spatial_dims(x_dim='lon', y_dim='lat', inplace=True)\n",
    "co2 = co2.reindex(lat=co2.lat[::-1])"
   ]
  },
  {
   "cell_type": "code",
   "execution_count": null,
   "metadata": {},
   "outputs": [],
   "source": [
    "\n",
    "print(co2.rio.crs) # check if there is already a crs defined\n",
    "co2.rio.write_crs(\"epsg:4326\", inplace=True) # Add a crs if not. Global data mostly in WGS84=epsg4326\n",
    "print(co2.rio.crs)\n",
    "co2.rio.to_raster(r\"/Users/moyanofe/BigData/GeoSpatial/Carboscope/Inversions/s85oc_v2022_daily.tiff\")\n",
    "\n",
    "\n",
    "# p = co2.isel(mtime=0).plot(\n",
    "#     subplot_kws=dict(projection=ccrs.Orthographic(-80, 35), facecolor=\"gray\"),\n",
    "#     transform=ccrs.PlateCarree(),\n",
    "# )\n",
    "# p.axes.set_global()\n",
    "# p.axes.coastlines()\n",
    "\n"
   ]
  },
  {
   "cell_type": "code",
   "execution_count": 8,
   "metadata": {},
   "outputs": [
    {
     "name": "stdout",
     "output_type": "stream",
     "text": [
      "<open DatasetReader name='/Users/moyanofe/BigData/GeoSpatial/Carboscope/Inversions/s85oc_v2022_daily.tiff' mode='r'>\n"
     ]
    }
   ],
   "source": [
    "import rasterio\n",
    "import rasterio.plot\n",
    "\n",
    "file_path = '/Users/moyanofe/BigData/GeoSpatial/Carboscope/Inversions/s85oc_v2022_daily.tiff'\n",
    "co2 = rasterio.open(file_path)\n",
    "print(co2)"
   ]
  },
  {
   "cell_type": "code",
   "execution_count": null,
   "metadata": {},
   "outputs": [],
   "source": [
    "\n",
    "rasterio.plot.show(co2, title = \"co2_land\")"
   ]
  }
 ],
 "metadata": {
  "kernelspec": {
   "display_name": "Python 3.9.13 ('landcover')",
   "language": "python",
   "name": "python3"
  },
  "language_info": {
   "codemirror_mode": {
    "name": "ipython",
    "version": 3
   },
   "file_extension": ".py",
   "mimetype": "text/x-python",
   "name": "python",
   "nbconvert_exporter": "python",
   "pygments_lexer": "ipython3",
   "version": "3.9.13"
  },
  "orig_nbformat": 4,
  "vscode": {
   "interpreter": {
    "hash": "e9c0ace6525dc9bd2cdb9ec438dcef471f1778d0487c57e0c503f5b8fe081a27"
   }
  }
 },
 "nbformat": 4,
 "nbformat_minor": 2
}
